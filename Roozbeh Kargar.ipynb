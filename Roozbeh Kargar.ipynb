{
 "cells": [
  {
   "cell_type": "code",
   "execution_count": 1,
   "id": "d01fb6e3",
   "metadata": {},
   "outputs": [],
   "source": [
    "import pandas as pd\n",
    "import matplotlib.pyplot as plt\n",
    "import numpy as np"
   ]
  },
  {
   "cell_type": "code",
   "execution_count": 2,
   "id": "babf286f",
   "metadata": {},
   "outputs": [],
   "source": [
    "incident = pd.read_csv('donneesouvertes-interventions-sim.csv')\n"
   ]
  },
  {
   "cell_type": "code",
   "execution_count": 3,
   "id": "33421f65",
   "metadata": {},
   "outputs": [
    {
     "data": {
      "text/html": [
       "<div>\n",
       "<style scoped>\n",
       "    .dataframe tbody tr th:only-of-type {\n",
       "        vertical-align: middle;\n",
       "    }\n",
       "\n",
       "    .dataframe tbody tr th {\n",
       "        vertical-align: top;\n",
       "    }\n",
       "\n",
       "    .dataframe thead th {\n",
       "        text-align: right;\n",
       "    }\n",
       "</style>\n",
       "<table border=\"1\" class=\"dataframe\">\n",
       "  <thead>\n",
       "    <tr style=\"text-align: right;\">\n",
       "      <th></th>\n",
       "      <th>INCIDENT_NBR</th>\n",
       "      <th>CREATION_DATE_TIME</th>\n",
       "      <th>INCIDENT_TYPE_DESC</th>\n",
       "      <th>DESCRIPTION_GROUPE</th>\n",
       "      <th>CASERNE</th>\n",
       "      <th>NOM_VILLE</th>\n",
       "      <th>NOM_ARROND</th>\n",
       "      <th>DIVISION</th>\n",
       "      <th>NOMBRE_UNITES</th>\n",
       "      <th>CIV</th>\n",
       "      <th>MTM8_X</th>\n",
       "      <th>MTM8_Y</th>\n",
       "      <th>LONGITUDE</th>\n",
       "      <th>LATITUDE</th>\n",
       "    </tr>\n",
       "  </thead>\n",
       "  <tbody>\n",
       "    <tr>\n",
       "      <th>0</th>\n",
       "      <td>14671</td>\n",
       "      <td>2015-02-08T20:14:04</td>\n",
       "      <td>Structure dangereuse</td>\n",
       "      <td>SANS FEU</td>\n",
       "      <td>41</td>\n",
       "      <td>Montréal</td>\n",
       "      <td>Villeray / St-Michel / Parc Extension</td>\n",
       "      <td>8</td>\n",
       "      <td>1.0</td>\n",
       "      <td>NaN</td>\n",
       "      <td>295191.1</td>\n",
       "      <td>5043245.4</td>\n",
       "      <td>-73.623018</td>\n",
       "      <td>45.529059</td>\n",
       "    </tr>\n",
       "    <tr>\n",
       "      <th>1</th>\n",
       "      <td>14701</td>\n",
       "      <td>2015-02-08T22:06:30</td>\n",
       "      <td>Appel de Cie de détection</td>\n",
       "      <td>Alarmes-incendies</td>\n",
       "      <td>28</td>\n",
       "      <td>Montréal</td>\n",
       "      <td>Anjou</td>\n",
       "      <td>9</td>\n",
       "      <td>6.0</td>\n",
       "      <td>1.0</td>\n",
       "      <td>299947.0</td>\n",
       "      <td>5050604.9</td>\n",
       "      <td>-73.562204</td>\n",
       "      <td>45.595332</td>\n",
       "    </tr>\n",
       "    <tr>\n",
       "      <th>2</th>\n",
       "      <td>14707</td>\n",
       "      <td>2015-02-08T22:37:57</td>\n",
       "      <td>Premier répondant</td>\n",
       "      <td>1-REPOND</td>\n",
       "      <td>39</td>\n",
       "      <td>Montréal</td>\n",
       "      <td>Mercier / Hochelaga-Maisonneuve</td>\n",
       "      <td>7</td>\n",
       "      <td>1.0</td>\n",
       "      <td>1.0</td>\n",
       "      <td>302268.2</td>\n",
       "      <td>5048767.1</td>\n",
       "      <td>-73.532442</td>\n",
       "      <td>45.578807</td>\n",
       "    </tr>\n",
       "    <tr>\n",
       "      <th>3</th>\n",
       "      <td>15481</td>\n",
       "      <td>2015-02-11T02:27:20</td>\n",
       "      <td>Premier répondant</td>\n",
       "      <td>1-REPOND</td>\n",
       "      <td>29</td>\n",
       "      <td>Montréal</td>\n",
       "      <td>Rosemont / Petite-Patrie</td>\n",
       "      <td>7</td>\n",
       "      <td>1.0</td>\n",
       "      <td>1.0</td>\n",
       "      <td>299604.2</td>\n",
       "      <td>5045286.9</td>\n",
       "      <td>-73.566541</td>\n",
       "      <td>45.547476</td>\n",
       "    </tr>\n",
       "    <tr>\n",
       "      <th>4</th>\n",
       "      <td>15483</td>\n",
       "      <td>2015-02-11T03:27:29</td>\n",
       "      <td>Premier répondant</td>\n",
       "      <td>1-REPOND</td>\n",
       "      <td>8</td>\n",
       "      <td>Montréal-Est</td>\n",
       "      <td>Indéterminé</td>\n",
       "      <td>9</td>\n",
       "      <td>1.0</td>\n",
       "      <td>1.0</td>\n",
       "      <td>303349.7</td>\n",
       "      <td>5052541.2</td>\n",
       "      <td>-73.518596</td>\n",
       "      <td>45.612770</td>\n",
       "    </tr>\n",
       "  </tbody>\n",
       "</table>\n",
       "</div>"
      ],
      "text/plain": [
       "   INCIDENT_NBR   CREATION_DATE_TIME         INCIDENT_TYPE_DESC  \\\n",
       "0         14671  2015-02-08T20:14:04       Structure dangereuse   \n",
       "1         14701  2015-02-08T22:06:30  Appel de Cie de détection   \n",
       "2         14707  2015-02-08T22:37:57          Premier répondant   \n",
       "3         15481  2015-02-11T02:27:20          Premier répondant   \n",
       "4         15483  2015-02-11T03:27:29          Premier répondant   \n",
       "\n",
       "  DESCRIPTION_GROUPE  CASERNE     NOM_VILLE  \\\n",
       "0           SANS FEU       41      Montréal   \n",
       "1  Alarmes-incendies       28      Montréal   \n",
       "2           1-REPOND       39      Montréal   \n",
       "3           1-REPOND       29      Montréal   \n",
       "4           1-REPOND        8  Montréal-Est   \n",
       "\n",
       "                              NOM_ARROND  DIVISION  NOMBRE_UNITES  CIV  \\\n",
       "0  Villeray / St-Michel / Parc Extension         8            1.0  NaN   \n",
       "1                                  Anjou         9            6.0  1.0   \n",
       "2        Mercier / Hochelaga-Maisonneuve         7            1.0  1.0   \n",
       "3               Rosemont / Petite-Patrie         7            1.0  1.0   \n",
       "4                            Indéterminé         9            1.0  1.0   \n",
       "\n",
       "     MTM8_X     MTM8_Y  LONGITUDE   LATITUDE  \n",
       "0  295191.1  5043245.4 -73.623018  45.529059  \n",
       "1  299947.0  5050604.9 -73.562204  45.595332  \n",
       "2  302268.2  5048767.1 -73.532442  45.578807  \n",
       "3  299604.2  5045286.9 -73.566541  45.547476  \n",
       "4  303349.7  5052541.2 -73.518596  45.612770  "
      ]
     },
     "execution_count": 3,
     "metadata": {},
     "output_type": "execute_result"
    }
   ],
   "source": [
    "incident.head()"
   ]
  },
  {
   "cell_type": "markdown",
   "id": "95d340b5",
   "metadata": {},
   "source": [
    "## CHECKING NAN VALUES"
   ]
  },
  {
   "cell_type": "code",
   "execution_count": 4,
   "id": "205f2537",
   "metadata": {},
   "outputs": [
    {
     "data": {
      "text/plain": [
       "INCIDENT_NBR              0\n",
       "CREATION_DATE_TIME        0\n",
       "INCIDENT_TYPE_DESC        0\n",
       "DESCRIPTION_GROUPE       22\n",
       "CASERNE                   0\n",
       "NOM_VILLE                 0\n",
       "NOM_ARROND                0\n",
       "DIVISION                  0\n",
       "NOMBRE_UNITES           212\n",
       "CIV                   80405\n",
       "MTM8_X                    0\n",
       "MTM8_Y                    0\n",
       "LONGITUDE                 0\n",
       "LATITUDE                  0\n",
       "dtype: int64"
      ]
     },
     "execution_count": 4,
     "metadata": {},
     "output_type": "execute_result"
    }
   ],
   "source": [
    "incident.isna().sum()"
   ]
  },
  {
   "cell_type": "markdown",
   "id": "9524dac6",
   "metadata": {},
   "source": [
    "As we can see, there are 22 NAN records for description column so we will drpop them."
   ]
  },
  {
   "cell_type": "code",
   "execution_count": 5,
   "id": "6ac479ff",
   "metadata": {},
   "outputs": [],
   "source": [
    "incident.dropna(subset=[\"DESCRIPTION_GROUPE\"],inplace=True)"
   ]
  },
  {
   "cell_type": "code",
   "execution_count": 6,
   "id": "7230d02a",
   "metadata": {},
   "outputs": [
    {
     "data": {
      "text/plain": [
       "INCIDENT_NBR              0\n",
       "CREATION_DATE_TIME        0\n",
       "INCIDENT_TYPE_DESC        0\n",
       "DESCRIPTION_GROUPE        0\n",
       "CASERNE                   0\n",
       "NOM_VILLE                 0\n",
       "NOM_ARROND                0\n",
       "DIVISION                  0\n",
       "NOMBRE_UNITES           212\n",
       "CIV                   80401\n",
       "MTM8_X                    0\n",
       "MTM8_Y                    0\n",
       "LONGITUDE                 0\n",
       "LATITUDE                  0\n",
       "dtype: int64"
      ]
     },
     "execution_count": 6,
     "metadata": {},
     "output_type": "execute_result"
    }
   ],
   "source": [
    "incident.isna().sum()"
   ]
  },
  {
   "cell_type": "code",
   "execution_count": 7,
   "id": "89be0647",
   "metadata": {},
   "outputs": [
    {
     "data": {
      "text/plain": [
       "1-REPOND             489369\n",
       "SANS FEU             136124\n",
       "Alarmes-incendies     86790\n",
       "AUTREFEU              19503\n",
       "INCENDIE               8056\n",
       "FAU-ALER                654\n",
       "NOUVEAU                   2\n",
       "Name: DESCRIPTION_GROUPE, dtype: int64"
      ]
     },
     "execution_count": 7,
     "metadata": {},
     "output_type": "execute_result"
    }
   ],
   "source": [
    "incident.DESCRIPTION_GROUPE.value_counts()"
   ]
  },
  {
   "cell_type": "markdown",
   "id": "d8231906",
   "metadata": {},
   "source": [
    "By getting unique values of the description_group column, we can see that there seven groups of incidents in our dataset, which are first respondant','without fire','fire alarm','other fire type','fire','false alarm','new'."
   ]
  },
  {
   "cell_type": "code",
   "execution_count": 8,
   "id": "7809c5e8",
   "metadata": {},
   "outputs": [],
   "source": [
    "trans_dic= {'1-REPOND':'first respondant','SANS FEU':'without fire', 'Alarmes-incendies': 'fire alarm', 'AUTREFEU':'other fire type','INCENDIE':'fire', 'FAU-ALER':'false alarm', 'NOUVEAU':'new'}"
   ]
  },
  {
   "cell_type": "code",
   "execution_count": 9,
   "id": "b182ef59",
   "metadata": {},
   "outputs": [],
   "source": [
    "incident.DESCRIPTION_GROUPE = incident.DESCRIPTION_GROUPE.map(trans_dic)"
   ]
  },
  {
   "cell_type": "markdown",
   "id": "9bbfe196",
   "metadata": {},
   "source": [
    "For a better understanding of the dataset, these groupings were replaced with their English translations."
   ]
  },
  {
   "cell_type": "code",
   "execution_count": 10,
   "id": "7655d0a1",
   "metadata": {},
   "outputs": [
    {
     "data": {
      "text/html": [
       "<div>\n",
       "<style scoped>\n",
       "    .dataframe tbody tr th:only-of-type {\n",
       "        vertical-align: middle;\n",
       "    }\n",
       "\n",
       "    .dataframe tbody tr th {\n",
       "        vertical-align: top;\n",
       "    }\n",
       "\n",
       "    .dataframe thead th {\n",
       "        text-align: right;\n",
       "    }\n",
       "</style>\n",
       "<table border=\"1\" class=\"dataframe\">\n",
       "  <thead>\n",
       "    <tr style=\"text-align: right;\">\n",
       "      <th></th>\n",
       "      <th>INCIDENT_NBR</th>\n",
       "      <th>CREATION_DATE_TIME</th>\n",
       "      <th>INCIDENT_TYPE_DESC</th>\n",
       "      <th>DESCRIPTION_GROUPE</th>\n",
       "      <th>CASERNE</th>\n",
       "      <th>NOM_VILLE</th>\n",
       "      <th>NOM_ARROND</th>\n",
       "      <th>DIVISION</th>\n",
       "      <th>NOMBRE_UNITES</th>\n",
       "      <th>CIV</th>\n",
       "      <th>MTM8_X</th>\n",
       "      <th>MTM8_Y</th>\n",
       "      <th>LONGITUDE</th>\n",
       "      <th>LATITUDE</th>\n",
       "    </tr>\n",
       "  </thead>\n",
       "  <tbody>\n",
       "    <tr>\n",
       "      <th>0</th>\n",
       "      <td>14671</td>\n",
       "      <td>2015-02-08T20:14:04</td>\n",
       "      <td>Structure dangereuse</td>\n",
       "      <td>without fire</td>\n",
       "      <td>41</td>\n",
       "      <td>Montréal</td>\n",
       "      <td>Villeray / St-Michel / Parc Extension</td>\n",
       "      <td>8</td>\n",
       "      <td>1.0</td>\n",
       "      <td>NaN</td>\n",
       "      <td>295191.1</td>\n",
       "      <td>5043245.4</td>\n",
       "      <td>-73.623018</td>\n",
       "      <td>45.529059</td>\n",
       "    </tr>\n",
       "    <tr>\n",
       "      <th>1</th>\n",
       "      <td>14701</td>\n",
       "      <td>2015-02-08T22:06:30</td>\n",
       "      <td>Appel de Cie de détection</td>\n",
       "      <td>fire alarm</td>\n",
       "      <td>28</td>\n",
       "      <td>Montréal</td>\n",
       "      <td>Anjou</td>\n",
       "      <td>9</td>\n",
       "      <td>6.0</td>\n",
       "      <td>1.0</td>\n",
       "      <td>299947.0</td>\n",
       "      <td>5050604.9</td>\n",
       "      <td>-73.562204</td>\n",
       "      <td>45.595332</td>\n",
       "    </tr>\n",
       "    <tr>\n",
       "      <th>2</th>\n",
       "      <td>14707</td>\n",
       "      <td>2015-02-08T22:37:57</td>\n",
       "      <td>Premier répondant</td>\n",
       "      <td>first respondant</td>\n",
       "      <td>39</td>\n",
       "      <td>Montréal</td>\n",
       "      <td>Mercier / Hochelaga-Maisonneuve</td>\n",
       "      <td>7</td>\n",
       "      <td>1.0</td>\n",
       "      <td>1.0</td>\n",
       "      <td>302268.2</td>\n",
       "      <td>5048767.1</td>\n",
       "      <td>-73.532442</td>\n",
       "      <td>45.578807</td>\n",
       "    </tr>\n",
       "    <tr>\n",
       "      <th>3</th>\n",
       "      <td>15481</td>\n",
       "      <td>2015-02-11T02:27:20</td>\n",
       "      <td>Premier répondant</td>\n",
       "      <td>first respondant</td>\n",
       "      <td>29</td>\n",
       "      <td>Montréal</td>\n",
       "      <td>Rosemont / Petite-Patrie</td>\n",
       "      <td>7</td>\n",
       "      <td>1.0</td>\n",
       "      <td>1.0</td>\n",
       "      <td>299604.2</td>\n",
       "      <td>5045286.9</td>\n",
       "      <td>-73.566541</td>\n",
       "      <td>45.547476</td>\n",
       "    </tr>\n",
       "    <tr>\n",
       "      <th>4</th>\n",
       "      <td>15483</td>\n",
       "      <td>2015-02-11T03:27:29</td>\n",
       "      <td>Premier répondant</td>\n",
       "      <td>first respondant</td>\n",
       "      <td>8</td>\n",
       "      <td>Montréal-Est</td>\n",
       "      <td>Indéterminé</td>\n",
       "      <td>9</td>\n",
       "      <td>1.0</td>\n",
       "      <td>1.0</td>\n",
       "      <td>303349.7</td>\n",
       "      <td>5052541.2</td>\n",
       "      <td>-73.518596</td>\n",
       "      <td>45.612770</td>\n",
       "    </tr>\n",
       "  </tbody>\n",
       "</table>\n",
       "</div>"
      ],
      "text/plain": [
       "   INCIDENT_NBR   CREATION_DATE_TIME         INCIDENT_TYPE_DESC  \\\n",
       "0         14671  2015-02-08T20:14:04       Structure dangereuse   \n",
       "1         14701  2015-02-08T22:06:30  Appel de Cie de détection   \n",
       "2         14707  2015-02-08T22:37:57          Premier répondant   \n",
       "3         15481  2015-02-11T02:27:20          Premier répondant   \n",
       "4         15483  2015-02-11T03:27:29          Premier répondant   \n",
       "\n",
       "  DESCRIPTION_GROUPE  CASERNE     NOM_VILLE  \\\n",
       "0       without fire       41      Montréal   \n",
       "1         fire alarm       28      Montréal   \n",
       "2   first respondant       39      Montréal   \n",
       "3   first respondant       29      Montréal   \n",
       "4   first respondant        8  Montréal-Est   \n",
       "\n",
       "                              NOM_ARROND  DIVISION  NOMBRE_UNITES  CIV  \\\n",
       "0  Villeray / St-Michel / Parc Extension         8            1.0  NaN   \n",
       "1                                  Anjou         9            6.0  1.0   \n",
       "2        Mercier / Hochelaga-Maisonneuve         7            1.0  1.0   \n",
       "3               Rosemont / Petite-Patrie         7            1.0  1.0   \n",
       "4                            Indéterminé         9            1.0  1.0   \n",
       "\n",
       "     MTM8_X     MTM8_Y  LONGITUDE   LATITUDE  \n",
       "0  295191.1  5043245.4 -73.623018  45.529059  \n",
       "1  299947.0  5050604.9 -73.562204  45.595332  \n",
       "2  302268.2  5048767.1 -73.532442  45.578807  \n",
       "3  299604.2  5045286.9 -73.566541  45.547476  \n",
       "4  303349.7  5052541.2 -73.518596  45.612770  "
      ]
     },
     "execution_count": 10,
     "metadata": {},
     "output_type": "execute_result"
    }
   ],
   "source": [
    "incident.head()"
   ]
  },
  {
   "cell_type": "code",
   "execution_count": 11,
   "id": "c9fb25ae",
   "metadata": {},
   "outputs": [
    {
     "data": {
      "text/plain": [
       "740498"
      ]
     },
     "execution_count": 11,
     "metadata": {},
     "output_type": "execute_result"
    }
   ],
   "source": [
    "len(incident)"
   ]
  },
  {
   "cell_type": "markdown",
   "id": "0be6fd5b",
   "metadata": {},
   "source": [
    "This a dataset related to incidents which were addressed by Montreal fire department. It contains 740520 incidents from 2015 till present. each incident has its unique identifying number, its creation date, the city,neighborhood, type of incident, the longitude and latitude of the incident and other useful information."
   ]
  },
  {
   "cell_type": "markdown",
   "id": "aab93241",
   "metadata": {},
   "source": [
    "# DATA EXPLORATION AND VISUALIZATION\n"
   ]
  },
  {
   "cell_type": "markdown",
   "id": "201b14a7",
   "metadata": {},
   "source": [
    "## DIFFERENT INCIDTENS ANALYSIS"
   ]
  },
  {
   "cell_type": "code",
   "execution_count": 12,
   "id": "74347ccf",
   "metadata": {},
   "outputs": [],
   "source": [
    "fire_gr = incident.DESCRIPTION_GROUPE.value_counts()\n",
    "fire_gr = fire_gr.to_frame()\n",
    "fire_gr =fire_gr.reset_index()"
   ]
  },
  {
   "cell_type": "code",
   "execution_count": 13,
   "id": "2a392840",
   "metadata": {
    "scrolled": false
   },
   "outputs": [
    {
     "data": {
      "text/html": [
       "<div>\n",
       "<style scoped>\n",
       "    .dataframe tbody tr th:only-of-type {\n",
       "        vertical-align: middle;\n",
       "    }\n",
       "\n",
       "    .dataframe tbody tr th {\n",
       "        vertical-align: top;\n",
       "    }\n",
       "\n",
       "    .dataframe thead th {\n",
       "        text-align: right;\n",
       "    }\n",
       "</style>\n",
       "<table border=\"1\" class=\"dataframe\">\n",
       "  <thead>\n",
       "    <tr style=\"text-align: right;\">\n",
       "      <th></th>\n",
       "      <th>fire_type</th>\n",
       "      <th>count</th>\n",
       "    </tr>\n",
       "  </thead>\n",
       "  <tbody>\n",
       "    <tr>\n",
       "      <th>0</th>\n",
       "      <td>first respondant</td>\n",
       "      <td>489369</td>\n",
       "    </tr>\n",
       "    <tr>\n",
       "      <th>1</th>\n",
       "      <td>without fire</td>\n",
       "      <td>136124</td>\n",
       "    </tr>\n",
       "    <tr>\n",
       "      <th>2</th>\n",
       "      <td>fire alarm</td>\n",
       "      <td>86790</td>\n",
       "    </tr>\n",
       "    <tr>\n",
       "      <th>3</th>\n",
       "      <td>other fire type</td>\n",
       "      <td>19503</td>\n",
       "    </tr>\n",
       "    <tr>\n",
       "      <th>4</th>\n",
       "      <td>fire</td>\n",
       "      <td>8056</td>\n",
       "    </tr>\n",
       "  </tbody>\n",
       "</table>\n",
       "</div>"
      ],
      "text/plain": [
       "          fire_type   count\n",
       "0  first respondant  489369\n",
       "1      without fire  136124\n",
       "2        fire alarm   86790\n",
       "3   other fire type   19503\n",
       "4              fire    8056"
      ]
     },
     "execution_count": 13,
     "metadata": {},
     "output_type": "execute_result"
    }
   ],
   "source": [
    "fire_gr.columns = ['fire_type', 'count']\n",
    "fire_gr.head()"
   ]
  },
  {
   "cell_type": "code",
   "execution_count": null,
   "id": "770e45e9",
   "metadata": {},
   "outputs": [],
   "source": []
  },
  {
   "cell_type": "code",
   "execution_count": 14,
   "id": "bc08f2ae",
   "metadata": {
    "scrolled": false
   },
   "outputs": [
    {
     "data": {
      "image/png": "[encoded data removed]",
      "text/plain": [
       "<Figure size 432x288 with 1 Axes>"
      ]
     },
     "metadata": {
      "needs_background": "light"
     },
     "output_type": "display_data"
    }
   ],
   "source": [
    "my_colors = ['black', 'red', 'green', 'blue', 'cyan','orange','purple']\n",
    "labels = list(fire_gr['fire_type'].values)\n",
    "for x,y,c,lb in zip(fire_gr['fire_type'],fire_gr['count'],my_colors,labels):\n",
    "    plt.bar(x, y, 1, color=c,label=lb)\n",
    "\n",
    "plt.legend()\n",
    "plt.xlabel('Description group')\n",
    "plt.xticks(rotation=90)\n",
    "plt.ylabel('Number of records')\n",
    "plt.show()"
   ]
  },
  {
   "cell_type": "markdown",
   "id": "752a6ea0",
   "metadata": {},
   "source": [
    "It is clear from the bar chart that majority of the incidents were first respondents, without fire, and fire alarms.However, the proportion for new and false alarms was negligible.\n",
    "As our main focus is on the fire incidents, we will focus on them by not considering other incident types."
   ]
  },
  {
   "cell_type": "markdown",
   "id": "f27d420e",
   "metadata": {},
   "source": [
    "## ANALYZING FIRE INCIDENTS BY MONTH"
   ]
  },
  {
   "cell_type": "markdown",
   "id": "898838ca",
   "metadata": {},
   "source": [
    "In the first step, we extract month names from the date when each incident occured."
   ]
  },
  {
   "cell_type": "code",
   "execution_count": 15,
   "id": "6545be7e",
   "metadata": {},
   "outputs": [],
   "source": [
    "incident['New_dt'] =pd.to_datetime(incident['CREATION_DATE_TIME']) "
   ]
  },
  {
   "cell_type": "code",
   "execution_count": 16,
   "id": "90cbef9d",
   "metadata": {},
   "outputs": [],
   "source": [
    "incident['Day']=incident['New_dt'].dt.strftime(\"%A\")"
   ]
  },
  {
   "cell_type": "code",
   "execution_count": 17,
   "id": "e5723165",
   "metadata": {},
   "outputs": [],
   "source": [
    "incident['Month']=incident['New_dt'].dt.month_name()"
   ]
  },
  {
   "cell_type": "code",
   "execution_count": 18,
   "id": "db090850",
   "metadata": {},
   "outputs": [],
   "source": [
    "def is_weekend(day):\n",
    "    if day.lower()=='sunday' or day.lower()=='saturday':\n",
    "        return True\n",
    "    else:\n",
    "        return False"
   ]
  },
  {
   "cell_type": "code",
   "execution_count": 19,
   "id": "d8ba48e3",
   "metadata": {},
   "outputs": [],
   "source": [
    "incident['weekend'] = incident['Day'].apply(is_weekend)"
   ]
  },
  {
   "cell_type": "code",
   "execution_count": 20,
   "id": "c97fabfc",
   "metadata": {},
   "outputs": [
    {
     "data": {
      "text/html": [
       "<div>\n",
       "<style scoped>\n",
       "    .dataframe tbody tr th:only-of-type {\n",
       "        vertical-align: middle;\n",
       "    }\n",
       "\n",
       "    .dataframe tbody tr th {\n",
       "        vertical-align: top;\n",
       "    }\n",
       "\n",
       "    .dataframe thead th {\n",
       "        text-align: right;\n",
       "    }\n",
       "</style>\n",
       "<table border=\"1\" class=\"dataframe\">\n",
       "  <thead>\n",
       "    <tr style=\"text-align: right;\">\n",
       "      <th></th>\n",
       "      <th>INCIDENT_NBR</th>\n",
       "      <th>CREATION_DATE_TIME</th>\n",
       "      <th>INCIDENT_TYPE_DESC</th>\n",
       "      <th>DESCRIPTION_GROUPE</th>\n",
       "      <th>CASERNE</th>\n",
       "      <th>NOM_VILLE</th>\n",
       "      <th>NOM_ARROND</th>\n",
       "      <th>DIVISION</th>\n",
       "      <th>NOMBRE_UNITES</th>\n",
       "      <th>CIV</th>\n",
       "      <th>MTM8_X</th>\n",
       "      <th>MTM8_Y</th>\n",
       "      <th>LONGITUDE</th>\n",
       "      <th>LATITUDE</th>\n",
       "      <th>New_dt</th>\n",
       "      <th>Day</th>\n",
       "      <th>Month</th>\n",
       "      <th>weekend</th>\n",
       "    </tr>\n",
       "  </thead>\n",
       "  <tbody>\n",
       "    <tr>\n",
       "      <th>0</th>\n",
       "      <td>14671</td>\n",
       "      <td>2015-02-08T20:14:04</td>\n",
       "      <td>Structure dangereuse</td>\n",
       "      <td>without fire</td>\n",
       "      <td>41</td>\n",
       "      <td>Montréal</td>\n",
       "      <td>Villeray / St-Michel / Parc Extension</td>\n",
       "      <td>8</td>\n",
       "      <td>1.0</td>\n",
       "      <td>NaN</td>\n",
       "      <td>295191.1</td>\n",
       "      <td>5043245.4</td>\n",
       "      <td>-73.623018</td>\n",
       "      <td>45.529059</td>\n",
       "      <td>2015-02-08 20:14:04</td>\n",
       "      <td>Sunday</td>\n",
       "      <td>February</td>\n",
       "      <td>True</td>\n",
       "    </tr>\n",
       "    <tr>\n",
       "      <th>1</th>\n",
       "      <td>14701</td>\n",
       "      <td>2015-02-08T22:06:30</td>\n",
       "      <td>Appel de Cie de détection</td>\n",
       "      <td>fire alarm</td>\n",
       "      <td>28</td>\n",
       "      <td>Montréal</td>\n",
       "      <td>Anjou</td>\n",
       "      <td>9</td>\n",
       "      <td>6.0</td>\n",
       "      <td>1.0</td>\n",
       "      <td>299947.0</td>\n",
       "      <td>5050604.9</td>\n",
       "      <td>-73.562204</td>\n",
       "      <td>45.595332</td>\n",
       "      <td>2015-02-08 22:06:30</td>\n",
       "      <td>Sunday</td>\n",
       "      <td>February</td>\n",
       "      <td>True</td>\n",
       "    </tr>\n",
       "    <tr>\n",
       "      <th>2</th>\n",
       "      <td>14707</td>\n",
       "      <td>2015-02-08T22:37:57</td>\n",
       "      <td>Premier répondant</td>\n",
       "      <td>first respondant</td>\n",
       "      <td>39</td>\n",
       "      <td>Montréal</td>\n",
       "      <td>Mercier / Hochelaga-Maisonneuve</td>\n",
       "      <td>7</td>\n",
       "      <td>1.0</td>\n",
       "      <td>1.0</td>\n",
       "      <td>302268.2</td>\n",
       "      <td>5048767.1</td>\n",
       "      <td>-73.532442</td>\n",
       "      <td>45.578807</td>\n",
       "      <td>2015-02-08 22:37:57</td>\n",
       "      <td>Sunday</td>\n",
       "      <td>February</td>\n",
       "      <td>True</td>\n",
       "    </tr>\n",
       "    <tr>\n",
       "      <th>3</th>\n",
       "      <td>15481</td>\n",
       "      <td>2015-02-11T02:27:20</td>\n",
       "      <td>Premier répondant</td>\n",
       "      <td>first respondant</td>\n",
       "      <td>29</td>\n",
       "      <td>Montréal</td>\n",
       "      <td>Rosemont / Petite-Patrie</td>\n",
       "      <td>7</td>\n",
       "      <td>1.0</td>\n",
       "      <td>1.0</td>\n",
       "      <td>299604.2</td>\n",
       "      <td>5045286.9</td>\n",
       "      <td>-73.566541</td>\n",
       "      <td>45.547476</td>\n",
       "      <td>2015-02-11 02:27:20</td>\n",
       "      <td>Wednesday</td>\n",
       "      <td>February</td>\n",
       "      <td>False</td>\n",
       "    </tr>\n",
       "    <tr>\n",
       "      <th>4</th>\n",
       "      <td>15483</td>\n",
       "      <td>2015-02-11T03:27:29</td>\n",
       "      <td>Premier répondant</td>\n",
       "      <td>first respondant</td>\n",
       "      <td>8</td>\n",
       "      <td>Montréal-Est</td>\n",
       "      <td>Indéterminé</td>\n",
       "      <td>9</td>\n",
       "      <td>1.0</td>\n",
       "      <td>1.0</td>\n",
       "      <td>303349.7</td>\n",
       "      <td>5052541.2</td>\n",
       "      <td>-73.518596</td>\n",
       "      <td>45.612770</td>\n",
       "      <td>2015-02-11 03:27:29</td>\n",
       "      <td>Wednesday</td>\n",
       "      <td>February</td>\n",
       "      <td>False</td>\n",
       "    </tr>\n",
       "  </tbody>\n",
       "</table>\n",
       "</div>"
      ],
      "text/plain": [
       "   INCIDENT_NBR   CREATION_DATE_TIME         INCIDENT_TYPE_DESC  \\\n",
       "0         14671  2015-02-08T20:14:04       Structure dangereuse   \n",
       "1         14701  2015-02-08T22:06:30  Appel de Cie de détection   \n",
       "2         14707  2015-02-08T22:37:57          Premier répondant   \n",
       "3         15481  2015-02-11T02:27:20          Premier répondant   \n",
       "4         15483  2015-02-11T03:27:29          Premier répondant   \n",
       "\n",
       "  DESCRIPTION_GROUPE  CASERNE     NOM_VILLE  \\\n",
       "0       without fire       41      Montréal   \n",
       "1         fire alarm       28      Montréal   \n",
       "2   first respondant       39      Montréal   \n",
       "3   first respondant       29      Montréal   \n",
       "4   first respondant        8  Montréal-Est   \n",
       "\n",
       "                              NOM_ARROND  DIVISION  NOMBRE_UNITES  CIV  \\\n",
       "0  Villeray / St-Michel / Parc Extension         8            1.0  NaN   \n",
       "1                                  Anjou         9            6.0  1.0   \n",
       "2        Mercier / Hochelaga-Maisonneuve         7            1.0  1.0   \n",
       "3               Rosemont / Petite-Patrie         7            1.0  1.0   \n",
       "4                            Indéterminé         9            1.0  1.0   \n",
       "\n",
       "     MTM8_X     MTM8_Y  LONGITUDE   LATITUDE              New_dt        Day  \\\n",
       "0  295191.1  5043245.4 -73.623018  45.529059 2015-02-08 20:14:04     Sunday   \n",
       "1  299947.0  5050604.9 -73.562204  45.595332 2015-02-08 22:06:30     Sunday   \n",
       "2  302268.2  5048767.1 -73.532442  45.578807 2015-02-08 22:37:57     Sunday   \n",
       "3  299604.2  5045286.9 -73.566541  45.547476 2015-02-11 02:27:20  Wednesday   \n",
       "4  303349.7  5052541.2 -73.518596  45.612770 2015-02-11 03:27:29  Wednesday   \n",
       "\n",
       "      Month  weekend  \n",
       "0  February     True  \n",
       "1  February     True  \n",
       "2  February     True  \n",
       "3  February    False  \n",
       "4  February    False  "
      ]
     },
     "execution_count": 20,
     "metadata": {},
     "output_type": "execute_result"
    }
   ],
   "source": [
    "incident.head()"
   ]
  },
  {
   "cell_type": "markdown",
   "id": "01ab0d56",
   "metadata": {},
   "source": [
    "In the second step, we build two data frames to calculate the number of incidents for 'fire' and'other fire' types for each month, and merge them to have a single data frame."
   ]
  },
  {
   "cell_type": "code",
   "execution_count": 21,
   "id": "d0ae331f",
   "metadata": {},
   "outputs": [],
   "source": [
    "fire_in_month = incident.Month[incident['DESCRIPTION_GROUPE']=='fire'].value_counts()\n",
    "fire_in_month = fire_in_month.to_frame()\n",
    "fire_in_month =fire_in_month.reset_index()"
   ]
  },
  {
   "cell_type": "code",
   "execution_count": 22,
   "id": "5f40e63a",
   "metadata": {},
   "outputs": [
    {
     "data": {
      "text/html": [
       "<div>\n",
       "<style scoped>\n",
       "    .dataframe tbody tr th:only-of-type {\n",
       "        vertical-align: middle;\n",
       "    }\n",
       "\n",
       "    .dataframe tbody tr th {\n",
       "        vertical-align: top;\n",
       "    }\n",
       "\n",
       "    .dataframe thead th {\n",
       "        text-align: right;\n",
       "    }\n",
       "</style>\n",
       "<table border=\"1\" class=\"dataframe\">\n",
       "  <thead>\n",
       "    <tr style=\"text-align: right;\">\n",
       "      <th></th>\n",
       "      <th>index</th>\n",
       "      <th>Month</th>\n",
       "    </tr>\n",
       "  </thead>\n",
       "  <tbody>\n",
       "    <tr>\n",
       "      <th>0</th>\n",
       "      <td>May</td>\n",
       "      <td>818</td>\n",
       "    </tr>\n",
       "    <tr>\n",
       "      <th>1</th>\n",
       "      <td>June</td>\n",
       "      <td>789</td>\n",
       "    </tr>\n",
       "    <tr>\n",
       "      <th>2</th>\n",
       "      <td>April</td>\n",
       "      <td>741</td>\n",
       "    </tr>\n",
       "    <tr>\n",
       "      <th>3</th>\n",
       "      <td>March</td>\n",
       "      <td>709</td>\n",
       "    </tr>\n",
       "    <tr>\n",
       "      <th>4</th>\n",
       "      <td>July</td>\n",
       "      <td>699</td>\n",
       "    </tr>\n",
       "  </tbody>\n",
       "</table>\n",
       "</div>"
      ],
      "text/plain": [
       "   index  Month\n",
       "0    May    818\n",
       "1   June    789\n",
       "2  April    741\n",
       "3  March    709\n",
       "4   July    699"
      ]
     },
     "execution_count": 22,
     "metadata": {},
     "output_type": "execute_result"
    }
   ],
   "source": [
    "fire_in_month.head()"
   ]
  },
  {
   "cell_type": "code",
   "execution_count": 23,
   "id": "9bdf9268",
   "metadata": {},
   "outputs": [
    {
     "data": {
      "text/html": [
       "<div>\n",
       "<style scoped>\n",
       "    .dataframe tbody tr th:only-of-type {\n",
       "        vertical-align: middle;\n",
       "    }\n",
       "\n",
       "    .dataframe tbody tr th {\n",
       "        vertical-align: top;\n",
       "    }\n",
       "\n",
       "    .dataframe thead th {\n",
       "        text-align: right;\n",
       "    }\n",
       "</style>\n",
       "<table border=\"1\" class=\"dataframe\">\n",
       "  <thead>\n",
       "    <tr style=\"text-align: right;\">\n",
       "      <th></th>\n",
       "      <th>Month</th>\n",
       "      <th>fire_count</th>\n",
       "    </tr>\n",
       "  </thead>\n",
       "  <tbody>\n",
       "    <tr>\n",
       "      <th>0</th>\n",
       "      <td>May</td>\n",
       "      <td>818</td>\n",
       "    </tr>\n",
       "    <tr>\n",
       "      <th>1</th>\n",
       "      <td>June</td>\n",
       "      <td>789</td>\n",
       "    </tr>\n",
       "    <tr>\n",
       "      <th>2</th>\n",
       "      <td>April</td>\n",
       "      <td>741</td>\n",
       "    </tr>\n",
       "    <tr>\n",
       "      <th>3</th>\n",
       "      <td>March</td>\n",
       "      <td>709</td>\n",
       "    </tr>\n",
       "    <tr>\n",
       "      <th>4</th>\n",
       "      <td>July</td>\n",
       "      <td>699</td>\n",
       "    </tr>\n",
       "  </tbody>\n",
       "</table>\n",
       "</div>"
      ],
      "text/plain": [
       "   Month  fire_count\n",
       "0    May         818\n",
       "1   June         789\n",
       "2  April         741\n",
       "3  March         709\n",
       "4   July         699"
      ]
     },
     "execution_count": 23,
     "metadata": {},
     "output_type": "execute_result"
    }
   ],
   "source": [
    "fire_in_month.columns = ['Month', 'fire_count']\n",
    "fire_in_month.head()"
   ]
  },
  {
   "cell_type": "code",
   "execution_count": 24,
   "id": "7a7a82f3",
   "metadata": {},
   "outputs": [],
   "source": [
    "from sorted_months_weekdays import *\n",
    "\n",
    "from sort_dataframeby_monthorweek import *"
   ]
  },
  {
   "cell_type": "code",
   "execution_count": null,
   "id": "392727c6",
   "metadata": {},
   "outputs": [],
   "source": []
  },
  {
   "cell_type": "code",
   "execution_count": 25,
   "id": "054013ea",
   "metadata": {},
   "outputs": [],
   "source": [
    "other_fire_in_month = incident.Month[incident['DESCRIPTION_GROUPE']==\"other fire type\"].value_counts()\n",
    "other_fire_in_month = other_fire_in_month.to_frame()\n",
    "other_fire_in_month = other_fire_in_month.reset_index()"
   ]
  },
  {
   "cell_type": "code",
   "execution_count": 26,
   "id": "9a2b3230",
   "metadata": {},
   "outputs": [
    {
     "data": {
      "text/html": [
       "<div>\n",
       "<style scoped>\n",
       "    .dataframe tbody tr th:only-of-type {\n",
       "        vertical-align: middle;\n",
       "    }\n",
       "\n",
       "    .dataframe tbody tr th {\n",
       "        vertical-align: top;\n",
       "    }\n",
       "\n",
       "    .dataframe thead th {\n",
       "        text-align: right;\n",
       "    }\n",
       "</style>\n",
       "<table border=\"1\" class=\"dataframe\">\n",
       "  <thead>\n",
       "    <tr style=\"text-align: right;\">\n",
       "      <th></th>\n",
       "      <th>Month</th>\n",
       "      <th>other_count</th>\n",
       "    </tr>\n",
       "  </thead>\n",
       "  <tbody>\n",
       "    <tr>\n",
       "      <th>0</th>\n",
       "      <td>June</td>\n",
       "      <td>3252</td>\n",
       "    </tr>\n",
       "    <tr>\n",
       "      <th>1</th>\n",
       "      <td>May</td>\n",
       "      <td>3158</td>\n",
       "    </tr>\n",
       "    <tr>\n",
       "      <th>2</th>\n",
       "      <td>July</td>\n",
       "      <td>2415</td>\n",
       "    </tr>\n",
       "    <tr>\n",
       "      <th>3</th>\n",
       "      <td>August</td>\n",
       "      <td>1936</td>\n",
       "    </tr>\n",
       "    <tr>\n",
       "      <th>4</th>\n",
       "      <td>April</td>\n",
       "      <td>1893</td>\n",
       "    </tr>\n",
       "  </tbody>\n",
       "</table>\n",
       "</div>"
      ],
      "text/plain": [
       "    Month  other_count\n",
       "0    June         3252\n",
       "1     May         3158\n",
       "2    July         2415\n",
       "3  August         1936\n",
       "4   April         1893"
      ]
     },
     "execution_count": 26,
     "metadata": {},
     "output_type": "execute_result"
    }
   ],
   "source": [
    "other_fire_in_month.columns = ['Month', 'other_count']\n",
    "other_fire_in_month.head()"
   ]
  },
  {
   "cell_type": "code",
   "execution_count": 27,
   "id": "d352c1aa",
   "metadata": {
    "scrolled": true
   },
   "outputs": [
    {
     "data": {
      "text/html": [
       "<div>\n",
       "<style scoped>\n",
       "    .dataframe tbody tr th:only-of-type {\n",
       "        vertical-align: middle;\n",
       "    }\n",
       "\n",
       "    .dataframe tbody tr th {\n",
       "        vertical-align: top;\n",
       "    }\n",
       "\n",
       "    .dataframe thead th {\n",
       "        text-align: right;\n",
       "    }\n",
       "</style>\n",
       "<table border=\"1\" class=\"dataframe\">\n",
       "  <thead>\n",
       "    <tr style=\"text-align: right;\">\n",
       "      <th></th>\n",
       "      <th>Month</th>\n",
       "      <th>fire_count</th>\n",
       "      <th>other_count</th>\n",
       "    </tr>\n",
       "  </thead>\n",
       "  <tbody>\n",
       "    <tr>\n",
       "      <th>0</th>\n",
       "      <td>May</td>\n",
       "      <td>818</td>\n",
       "      <td>3158</td>\n",
       "    </tr>\n",
       "    <tr>\n",
       "      <th>1</th>\n",
       "      <td>June</td>\n",
       "      <td>789</td>\n",
       "      <td>3252</td>\n",
       "    </tr>\n",
       "    <tr>\n",
       "      <th>2</th>\n",
       "      <td>April</td>\n",
       "      <td>741</td>\n",
       "      <td>1893</td>\n",
       "    </tr>\n",
       "    <tr>\n",
       "      <th>3</th>\n",
       "      <td>March</td>\n",
       "      <td>709</td>\n",
       "      <td>849</td>\n",
       "    </tr>\n",
       "    <tr>\n",
       "      <th>4</th>\n",
       "      <td>July</td>\n",
       "      <td>699</td>\n",
       "      <td>2415</td>\n",
       "    </tr>\n",
       "  </tbody>\n",
       "</table>\n",
       "</div>"
      ],
      "text/plain": [
       "   Month  fire_count  other_count\n",
       "0    May         818         3158\n",
       "1   June         789         3252\n",
       "2  April         741         1893\n",
       "3  March         709          849\n",
       "4   July         699         2415"
      ]
     },
     "execution_count": 27,
     "metadata": {},
     "output_type": "execute_result"
    }
   ],
   "source": [
    "df_merge_fire_other_fire = pd.merge(fire_in_month, other_fire_in_month, on='Month')\n",
    "df_merge_fire_other_fire.head()"
   ]
  },
  {
   "cell_type": "markdown",
   "id": "2979af0e",
   "metadata": {},
   "source": [
    "The data farme is sorted by the name od the months from january to december."
   ]
  },
  {
   "cell_type": "code",
   "execution_count": 28,
   "id": "40c27da9",
   "metadata": {},
   "outputs": [],
   "source": [
    "df_merge_fire_other_fire=Sort_Dataframeby_Month(df=df_merge_fire_other_fire,monthcolumnname='Month')"
   ]
  },
  {
   "cell_type": "code",
   "execution_count": 29,
   "id": "f77f948b",
   "metadata": {},
   "outputs": [
    {
     "data": {
      "text/html": [
       "<div>\n",
       "<style scoped>\n",
       "    .dataframe tbody tr th:only-of-type {\n",
       "        vertical-align: middle;\n",
       "    }\n",
       "\n",
       "    .dataframe tbody tr th {\n",
       "        vertical-align: top;\n",
       "    }\n",
       "\n",
       "    .dataframe thead th {\n",
       "        text-align: right;\n",
       "    }\n",
       "</style>\n",
       "<table border=\"1\" class=\"dataframe\">\n",
       "  <thead>\n",
       "    <tr style=\"text-align: right;\">\n",
       "      <th></th>\n",
       "      <th>Month</th>\n",
       "      <th>fire_count</th>\n",
       "      <th>other_count</th>\n",
       "    </tr>\n",
       "  </thead>\n",
       "  <tbody>\n",
       "    <tr>\n",
       "      <th>0</th>\n",
       "      <td>January</td>\n",
       "      <td>684</td>\n",
       "      <td>685</td>\n",
       "    </tr>\n",
       "    <tr>\n",
       "      <th>1</th>\n",
       "      <td>February</td>\n",
       "      <td>633</td>\n",
       "      <td>608</td>\n",
       "    </tr>\n",
       "    <tr>\n",
       "      <th>2</th>\n",
       "      <td>March</td>\n",
       "      <td>709</td>\n",
       "      <td>849</td>\n",
       "    </tr>\n",
       "    <tr>\n",
       "      <th>3</th>\n",
       "      <td>April</td>\n",
       "      <td>741</td>\n",
       "      <td>1893</td>\n",
       "    </tr>\n",
       "    <tr>\n",
       "      <th>4</th>\n",
       "      <td>May</td>\n",
       "      <td>818</td>\n",
       "      <td>3158</td>\n",
       "    </tr>\n",
       "  </tbody>\n",
       "</table>\n",
       "</div>"
      ],
      "text/plain": [
       "      Month  fire_count  other_count\n",
       "0   January         684          685\n",
       "1  February         633          608\n",
       "2     March         709          849\n",
       "3     April         741         1893\n",
       "4       May         818         3158"
      ]
     },
     "execution_count": 29,
     "metadata": {},
     "output_type": "execute_result"
    }
   ],
   "source": [
    "df_merge_fire_other_fire.head()"
   ]
  },
  {
   "cell_type": "markdown",
   "id": "71cd2e34",
   "metadata": {},
   "source": [
    "As is seen in the graph, the proportion of fire is somhow constant throughout the year,however, the figures for other fire types are significantly highr in warm months of the year, which can be related to increased outdoor activities and festivals held at this time of the year."
   ]
  },
  {
   "cell_type": "markdown",
   "id": "433931e8",
   "metadata": {},
   "source": [
    "## ANALYZING FIRE INCIDENTS IN DIFFERENT TIMES OF THE DAY\n"
   ]
  },
  {
   "cell_type": "markdown",
   "id": "aa4d2475",
   "metadata": {},
   "source": [
    "in the first step, we categorize 24 hours of a day into six subcategories:early morning, morning, midafternoon, evening, night, midnight"
   ]
  },
  {
   "cell_type": "code",
   "execution_count": 30,
   "id": "05648b40",
   "metadata": {},
   "outputs": [],
   "source": [
    "def hour_to_day_time(n):\n",
    "    \n",
    "    if 4<=n<=8:\n",
    "        t = 'early morning'\n",
    "    elif 8<n<=12:\n",
    "        t = 'morning'\n",
    "    elif 12<n<=16:\n",
    "        t ='mid-afternoon'\n",
    "    elif 16<n<=20:\n",
    "        t = 'evening'\n",
    "    elif 20<n<=24:\n",
    "        t = 'night'\n",
    "    else:\n",
    "        t = 'midnight'\n",
    "    return t"
   ]
  },
  {
   "cell_type": "code",
   "execution_count": 31,
   "id": "e8e81f7f",
   "metadata": {},
   "outputs": [],
   "source": [
    "incident['day_time'] = incident['New_dt'].dt.hour.apply(hour_to_day_time)"
   ]
  },
  {
   "cell_type": "code",
   "execution_count": 32,
   "id": "54044b73",
   "metadata": {},
   "outputs": [
    {
     "data": {
      "text/html": [
       "<div>\n",
       "<style scoped>\n",
       "    .dataframe tbody tr th:only-of-type {\n",
       "        vertical-align: middle;\n",
       "    }\n",
       "\n",
       "    .dataframe tbody tr th {\n",
       "        vertical-align: top;\n",
       "    }\n",
       "\n",
       "    .dataframe thead th {\n",
       "        text-align: right;\n",
       "    }\n",
       "</style>\n",
       "<table border=\"1\" class=\"dataframe\">\n",
       "  <thead>\n",
       "    <tr style=\"text-align: right;\">\n",
       "      <th></th>\n",
       "      <th>INCIDENT_NBR</th>\n",
       "      <th>CREATION_DATE_TIME</th>\n",
       "      <th>INCIDENT_TYPE_DESC</th>\n",
       "      <th>DESCRIPTION_GROUPE</th>\n",
       "      <th>CASERNE</th>\n",
       "      <th>NOM_VILLE</th>\n",
       "      <th>NOM_ARROND</th>\n",
       "      <th>DIVISION</th>\n",
       "      <th>NOMBRE_UNITES</th>\n",
       "      <th>CIV</th>\n",
       "      <th>MTM8_X</th>\n",
       "      <th>MTM8_Y</th>\n",
       "      <th>LONGITUDE</th>\n",
       "      <th>LATITUDE</th>\n",
       "      <th>New_dt</th>\n",
       "      <th>Day</th>\n",
       "      <th>Month</th>\n",
       "      <th>weekend</th>\n",
       "      <th>day_time</th>\n",
       "    </tr>\n",
       "  </thead>\n",
       "  <tbody>\n",
       "    <tr>\n",
       "      <th>0</th>\n",
       "      <td>14671</td>\n",
       "      <td>2015-02-08T20:14:04</td>\n",
       "      <td>Structure dangereuse</td>\n",
       "      <td>without fire</td>\n",
       "      <td>41</td>\n",
       "      <td>Montréal</td>\n",
       "      <td>Villeray / St-Michel / Parc Extension</td>\n",
       "      <td>8</td>\n",
       "      <td>1.0</td>\n",
       "      <td>NaN</td>\n",
       "      <td>295191.1</td>\n",
       "      <td>5043245.4</td>\n",
       "      <td>-73.623018</td>\n",
       "      <td>45.529059</td>\n",
       "      <td>2015-02-08 20:14:04</td>\n",
       "      <td>Sunday</td>\n",
       "      <td>February</td>\n",
       "      <td>True</td>\n",
       "      <td>evening</td>\n",
       "    </tr>\n",
       "    <tr>\n",
       "      <th>1</th>\n",
       "      <td>14701</td>\n",
       "      <td>2015-02-08T22:06:30</td>\n",
       "      <td>Appel de Cie de détection</td>\n",
       "      <td>fire alarm</td>\n",
       "      <td>28</td>\n",
       "      <td>Montréal</td>\n",
       "      <td>Anjou</td>\n",
       "      <td>9</td>\n",
       "      <td>6.0</td>\n",
       "      <td>1.0</td>\n",
       "      <td>299947.0</td>\n",
       "      <td>5050604.9</td>\n",
       "      <td>-73.562204</td>\n",
       "      <td>45.595332</td>\n",
       "      <td>2015-02-08 22:06:30</td>\n",
       "      <td>Sunday</td>\n",
       "      <td>February</td>\n",
       "      <td>True</td>\n",
       "      <td>night</td>\n",
       "    </tr>\n",
       "    <tr>\n",
       "      <th>2</th>\n",
       "      <td>14707</td>\n",
       "      <td>2015-02-08T22:37:57</td>\n",
       "      <td>Premier répondant</td>\n",
       "      <td>first respondant</td>\n",
       "      <td>39</td>\n",
       "      <td>Montréal</td>\n",
       "      <td>Mercier / Hochelaga-Maisonneuve</td>\n",
       "      <td>7</td>\n",
       "      <td>1.0</td>\n",
       "      <td>1.0</td>\n",
       "      <td>302268.2</td>\n",
       "      <td>5048767.1</td>\n",
       "      <td>-73.532442</td>\n",
       "      <td>45.578807</td>\n",
       "      <td>2015-02-08 22:37:57</td>\n",
       "      <td>Sunday</td>\n",
       "      <td>February</td>\n",
       "      <td>True</td>\n",
       "      <td>night</td>\n",
       "    </tr>\n",
       "    <tr>\n",
       "      <th>3</th>\n",
       "      <td>15481</td>\n",
       "      <td>2015-02-11T02:27:20</td>\n",
       "      <td>Premier répondant</td>\n",
       "      <td>first respondant</td>\n",
       "      <td>29</td>\n",
       "      <td>Montréal</td>\n",
       "      <td>Rosemont / Petite-Patrie</td>\n",
       "      <td>7</td>\n",
       "      <td>1.0</td>\n",
       "      <td>1.0</td>\n",
       "      <td>299604.2</td>\n",
       "      <td>5045286.9</td>\n",
       "      <td>-73.566541</td>\n",
       "      <td>45.547476</td>\n",
       "      <td>2015-02-11 02:27:20</td>\n",
       "      <td>Wednesday</td>\n",
       "      <td>February</td>\n",
       "      <td>False</td>\n",
       "      <td>midnight</td>\n",
       "    </tr>\n",
       "    <tr>\n",
       "      <th>4</th>\n",
       "      <td>15483</td>\n",
       "      <td>2015-02-11T03:27:29</td>\n",
       "      <td>Premier répondant</td>\n",
       "      <td>first respondant</td>\n",
       "      <td>8</td>\n",
       "      <td>Montréal-Est</td>\n",
       "      <td>Indéterminé</td>\n",
       "      <td>9</td>\n",
       "      <td>1.0</td>\n",
       "      <td>1.0</td>\n",
       "      <td>303349.7</td>\n",
       "      <td>5052541.2</td>\n",
       "      <td>-73.518596</td>\n",
       "      <td>45.612770</td>\n",
       "      <td>2015-02-11 03:27:29</td>\n",
       "      <td>Wednesday</td>\n",
       "      <td>February</td>\n",
       "      <td>False</td>\n",
       "      <td>midnight</td>\n",
       "    </tr>\n",
       "  </tbody>\n",
       "</table>\n",
       "</div>"
      ],
      "text/plain": [
       "   INCIDENT_NBR   CREATION_DATE_TIME         INCIDENT_TYPE_DESC  \\\n",
       "0         14671  2015-02-08T20:14:04       Structure dangereuse   \n",
       "1         14701  2015-02-08T22:06:30  Appel de Cie de détection   \n",
       "2         14707  2015-02-08T22:37:57          Premier répondant   \n",
       "3         15481  2015-02-11T02:27:20          Premier répondant   \n",
       "4         15483  2015-02-11T03:27:29          Premier répondant   \n",
       "\n",
       "  DESCRIPTION_GROUPE  CASERNE     NOM_VILLE  \\\n",
       "0       without fire       41      Montréal   \n",
       "1         fire alarm       28      Montréal   \n",
       "2   first respondant       39      Montréal   \n",
       "3   first respondant       29      Montréal   \n",
       "4   first respondant        8  Montréal-Est   \n",
       "\n",
       "                              NOM_ARROND  DIVISION  NOMBRE_UNITES  CIV  \\\n",
       "0  Villeray / St-Michel / Parc Extension         8            1.0  NaN   \n",
       "1                                  Anjou         9            6.0  1.0   \n",
       "2        Mercier / Hochelaga-Maisonneuve         7            1.0  1.0   \n",
       "3               Rosemont / Petite-Patrie         7            1.0  1.0   \n",
       "4                            Indéterminé         9            1.0  1.0   \n",
       "\n",
       "     MTM8_X     MTM8_Y  LONGITUDE   LATITUDE              New_dt        Day  \\\n",
       "0  295191.1  5043245.4 -73.623018  45.529059 2015-02-08 20:14:04     Sunday   \n",
       "1  299947.0  5050604.9 -73.562204  45.595332 2015-02-08 22:06:30     Sunday   \n",
       "2  302268.2  5048767.1 -73.532442  45.578807 2015-02-08 22:37:57     Sunday   \n",
       "3  299604.2  5045286.9 -73.566541  45.547476 2015-02-11 02:27:20  Wednesday   \n",
       "4  303349.7  5052541.2 -73.518596  45.612770 2015-02-11 03:27:29  Wednesday   \n",
       "\n",
       "      Month  weekend  day_time  \n",
       "0  February     True   evening  \n",
       "1  February     True     night  \n",
       "2  February     True     night  \n",
       "3  February    False  midnight  \n",
       "4  February    False  midnight  "
      ]
     },
     "execution_count": 32,
     "metadata": {},
     "output_type": "execute_result"
    }
   ],
   "source": [
    "incident.head()"
   ]
  },
  {
   "cell_type": "markdown",
   "id": "74091fd9",
   "metadata": {},
   "source": [
    "In this step, we build two dataframes to calculate the number of incidents for 'fire' and'other fire' types acoording to their subcategoires of the day and then merge them into a single data frame."
   ]
  },
  {
   "cell_type": "code",
   "execution_count": 33,
   "id": "965f64ce",
   "metadata": {},
   "outputs": [],
   "source": [
    "fire_in_daytime = incident.day_time[incident['DESCRIPTION_GROUPE']==\"fire\"].value_counts()\n",
    "fire_in_daytime = fire_in_daytime.to_frame()\n",
    "fire_in_daytime = fire_in_daytime.reset_index()"
   ]
  },
  {
   "cell_type": "code",
   "execution_count": 34,
   "id": "6e2e3e49",
   "metadata": {},
   "outputs": [
    {
     "data": {
      "text/html": [
       "<div>\n",
       "<style scoped>\n",
       "    .dataframe tbody tr th:only-of-type {\n",
       "        vertical-align: middle;\n",
       "    }\n",
       "\n",
       "    .dataframe tbody tr th {\n",
       "        vertical-align: top;\n",
       "    }\n",
       "\n",
       "    .dataframe thead th {\n",
       "        text-align: right;\n",
       "    }\n",
       "</style>\n",
       "<table border=\"1\" class=\"dataframe\">\n",
       "  <thead>\n",
       "    <tr style=\"text-align: right;\">\n",
       "      <th></th>\n",
       "      <th>day_time</th>\n",
       "      <th>fire_count</th>\n",
       "    </tr>\n",
       "  </thead>\n",
       "  <tbody>\n",
       "    <tr>\n",
       "      <th>0</th>\n",
       "      <td>evening</td>\n",
       "      <td>1949</td>\n",
       "    </tr>\n",
       "    <tr>\n",
       "      <th>1</th>\n",
       "      <td>mid-afternoon</td>\n",
       "      <td>1829</td>\n",
       "    </tr>\n",
       "    <tr>\n",
       "      <th>2</th>\n",
       "      <td>morning</td>\n",
       "      <td>1412</td>\n",
       "    </tr>\n",
       "    <tr>\n",
       "      <th>3</th>\n",
       "      <td>night</td>\n",
       "      <td>978</td>\n",
       "    </tr>\n",
       "    <tr>\n",
       "      <th>4</th>\n",
       "      <td>early morning</td>\n",
       "      <td>964</td>\n",
       "    </tr>\n",
       "  </tbody>\n",
       "</table>\n",
       "</div>"
      ],
      "text/plain": [
       "        day_time  fire_count\n",
       "0        evening        1949\n",
       "1  mid-afternoon        1829\n",
       "2        morning        1412\n",
       "3          night         978\n",
       "4  early morning         964"
      ]
     },
     "execution_count": 34,
     "metadata": {},
     "output_type": "execute_result"
    }
   ],
   "source": [
    "fire_in_daytime.columns = ['day_time', 'fire_count']\n",
    "fire_in_daytime.head()"
   ]
  },
  {
   "cell_type": "code",
   "execution_count": 35,
   "id": "e42455c5",
   "metadata": {},
   "outputs": [],
   "source": [
    "other_fire_in_daytime = incident.day_time[incident['DESCRIPTION_GROUPE']==\"other fire type\"].value_counts()\n",
    "other_fire_in_daytime = other_fire_in_daytime.to_frame()\n",
    "other_fire_in_daytime = other_fire_in_daytime.reset_index()"
   ]
  },
  {
   "cell_type": "code",
   "execution_count": 36,
   "id": "b1e1d594",
   "metadata": {},
   "outputs": [
    {
     "data": {
      "text/html": [
       "<div>\n",
       "<style scoped>\n",
       "    .dataframe tbody tr th:only-of-type {\n",
       "        vertical-align: middle;\n",
       "    }\n",
       "\n",
       "    .dataframe tbody tr th {\n",
       "        vertical-align: top;\n",
       "    }\n",
       "\n",
       "    .dataframe thead th {\n",
       "        text-align: right;\n",
       "    }\n",
       "</style>\n",
       "<table border=\"1\" class=\"dataframe\">\n",
       "  <thead>\n",
       "    <tr style=\"text-align: right;\">\n",
       "      <th></th>\n",
       "      <th>day_time</th>\n",
       "      <th>other_count</th>\n",
       "    </tr>\n",
       "  </thead>\n",
       "  <tbody>\n",
       "    <tr>\n",
       "      <th>0</th>\n",
       "      <td>evening</td>\n",
       "      <td>5237</td>\n",
       "    </tr>\n",
       "    <tr>\n",
       "      <th>1</th>\n",
       "      <td>mid-afternoon</td>\n",
       "      <td>4293</td>\n",
       "    </tr>\n",
       "    <tr>\n",
       "      <th>2</th>\n",
       "      <td>night</td>\n",
       "      <td>3625</td>\n",
       "    </tr>\n",
       "    <tr>\n",
       "      <th>3</th>\n",
       "      <td>morning</td>\n",
       "      <td>2412</td>\n",
       "    </tr>\n",
       "    <tr>\n",
       "      <th>4</th>\n",
       "      <td>midnight</td>\n",
       "      <td>2149</td>\n",
       "    </tr>\n",
       "  </tbody>\n",
       "</table>\n",
       "</div>"
      ],
      "text/plain": [
       "        day_time  other_count\n",
       "0        evening         5237\n",
       "1  mid-afternoon         4293\n",
       "2          night         3625\n",
       "3        morning         2412\n",
       "4       midnight         2149"
      ]
     },
     "execution_count": 36,
     "metadata": {},
     "output_type": "execute_result"
    }
   ],
   "source": [
    "other_fire_in_daytime.columns = ['day_time', 'other_count']\n",
    "other_fire_in_daytime.head()"
   ]
  },
  {
   "cell_type": "code",
   "execution_count": 37,
   "id": "e84ae7cd",
   "metadata": {},
   "outputs": [
    {
     "data": {
      "text/html": [
       "<div>\n",
       "<style scoped>\n",
       "    .dataframe tbody tr th:only-of-type {\n",
       "        vertical-align: middle;\n",
       "    }\n",
       "\n",
       "    .dataframe tbody tr th {\n",
       "        vertical-align: top;\n",
       "    }\n",
       "\n",
       "    .dataframe thead th {\n",
       "        text-align: right;\n",
       "    }\n",
       "</style>\n",
       "<table border=\"1\" class=\"dataframe\">\n",
       "  <thead>\n",
       "    <tr style=\"text-align: right;\">\n",
       "      <th></th>\n",
       "      <th>day_time</th>\n",
       "      <th>fire_count</th>\n",
       "      <th>other_count</th>\n",
       "    </tr>\n",
       "  </thead>\n",
       "  <tbody>\n",
       "    <tr>\n",
       "      <th>0</th>\n",
       "      <td>evening</td>\n",
       "      <td>1949</td>\n",
       "      <td>5237</td>\n",
       "    </tr>\n",
       "    <tr>\n",
       "      <th>1</th>\n",
       "      <td>mid-afternoon</td>\n",
       "      <td>1829</td>\n",
       "      <td>4293</td>\n",
       "    </tr>\n",
       "    <tr>\n",
       "      <th>2</th>\n",
       "      <td>morning</td>\n",
       "      <td>1412</td>\n",
       "      <td>2412</td>\n",
       "    </tr>\n",
       "    <tr>\n",
       "      <th>3</th>\n",
       "      <td>night</td>\n",
       "      <td>978</td>\n",
       "      <td>3625</td>\n",
       "    </tr>\n",
       "    <tr>\n",
       "      <th>4</th>\n",
       "      <td>early morning</td>\n",
       "      <td>964</td>\n",
       "      <td>1787</td>\n",
       "    </tr>\n",
       "    <tr>\n",
       "      <th>5</th>\n",
       "      <td>midnight</td>\n",
       "      <td>924</td>\n",
       "      <td>2149</td>\n",
       "    </tr>\n",
       "  </tbody>\n",
       "</table>\n",
       "</div>"
      ],
      "text/plain": [
       "        day_time  fire_count  other_count\n",
       "0        evening        1949         5237\n",
       "1  mid-afternoon        1829         4293\n",
       "2        morning        1412         2412\n",
       "3          night         978         3625\n",
       "4  early morning         964         1787\n",
       "5       midnight         924         2149"
      ]
     },
     "execution_count": 37,
     "metadata": {},
     "output_type": "execute_result"
    }
   ],
   "source": [
    "df_merge_fire_other_fire_day_time = pd.merge(fire_in_daytime, other_fire_in_daytime, on='day_time')\n",
    "df_merge_fire_other_fire_day_time"
   ]
  },
  {
   "cell_type": "code",
   "execution_count": 38,
   "id": "1c7fa1e6",
   "metadata": {},
   "outputs": [],
   "source": [
    "count = df_merge_fire_other_fire_day_time.fire_count\n",
    "other_count = df_merge_fire_other_fire_day_time.other_count"
   ]
  },
  {
   "cell_type": "code",
   "execution_count": 39,
   "id": "fded6cc7",
   "metadata": {},
   "outputs": [
    {
     "data": {
      "image/png": "[encoded data removed]",
      "text/plain": [
       "<Figure size 432x288 with 1 Axes>"
      ]
     },
     "metadata": {
      "needs_background": "light"
     },
     "output_type": "display_data"
    }
   ],
   "source": [
    "labels = ['evening', 'mid-afternoon', 'morning','night','early morning','midnight']\n",
    "\n",
    "x = np.arange(len(labels))  # the label locations\n",
    "width = 0.6  # the width of the bars\n",
    "\n",
    "fig, ax = plt.subplots()\n",
    "rects1 = ax.bar(x - width/2, count, width, label='fire')\n",
    "rects2 = ax.bar(x + width/2, other_count, width, label='other fire')\n",
    "\n",
    "# Add some text for labels, title and custom x-axis tick labels, etc.\n",
    "ax.set_ylabel('Count of number of records')\n",
    "ax.set_title('Incident by time of the day')\n",
    "ax.set_xticks(x)\n",
    "\n",
    "ax.set_xticklabels(labels)\n",
    "ax.legend()\n",
    "\n",
    "ax.bar_label(rects1, padding=3)\n",
    "ax.bar_label(rects2, padding=3)\n",
    "\n",
    "fig.tight_layout()\n",
    "plt.xticks(rotation=90)\n",
    "plt.show()"
   ]
  },
  {
   "cell_type": "markdown",
   "id": "466868ca",
   "metadata": {},
   "source": [
    "As can be seen, the rate of fire incidents in the buildings mostly happened in the evening and midafternoon, while this rate was significantly higher for other fire types at the same time and at nights."
   ]
  },
  {
   "cell_type": "markdown",
   "id": "57f0246f",
   "metadata": {},
   "source": [
    "## ANALYZING FIRE INCIDENTS DURING WEEKDAYS AND WEEKENDS"
   ]
  },
  {
   "cell_type": "markdown",
   "id": "93c153f8",
   "metadata": {},
   "source": [
    "in the first step, we made two dataframes to calculate the number of incidents of fire and other fire types on weekdays and weekends, and then we merged them to a single dataframe."
   ]
  },
  {
   "cell_type": "code",
   "execution_count": 40,
   "id": "b3b428f1",
   "metadata": {},
   "outputs": [],
   "source": [
    "fire_in_weekday = incident.weekend[incident['DESCRIPTION_GROUPE']==\"fire\"].value_counts()\n",
    "fire_in_weekday = fire_in_weekday.to_frame()\n",
    "fire_in_weekday = fire_in_weekday.reset_index()"
   ]
  },
  {
   "cell_type": "code",
   "execution_count": 41,
   "id": "80b1dcf6",
   "metadata": {},
   "outputs": [
    {
     "data": {
      "text/html": [
       "<div>\n",
       "<style scoped>\n",
       "    .dataframe tbody tr th:only-of-type {\n",
       "        vertical-align: middle;\n",
       "    }\n",
       "\n",
       "    .dataframe tbody tr th {\n",
       "        vertical-align: top;\n",
       "    }\n",
       "\n",
       "    .dataframe thead th {\n",
       "        text-align: right;\n",
       "    }\n",
       "</style>\n",
       "<table border=\"1\" class=\"dataframe\">\n",
       "  <thead>\n",
       "    <tr style=\"text-align: right;\">\n",
       "      <th></th>\n",
       "      <th>weekend</th>\n",
       "      <th>fire_count</th>\n",
       "    </tr>\n",
       "  </thead>\n",
       "  <tbody>\n",
       "    <tr>\n",
       "      <th>0</th>\n",
       "      <td>False</td>\n",
       "      <td>5781</td>\n",
       "    </tr>\n",
       "    <tr>\n",
       "      <th>1</th>\n",
       "      <td>True</td>\n",
       "      <td>2275</td>\n",
       "    </tr>\n",
       "  </tbody>\n",
       "</table>\n",
       "</div>"
      ],
      "text/plain": [
       "   weekend  fire_count\n",
       "0    False        5781\n",
       "1     True        2275"
      ]
     },
     "execution_count": 41,
     "metadata": {},
     "output_type": "execute_result"
    }
   ],
   "source": [
    "fire_in_weekday.columns = ['weekend', 'fire_count']\n",
    "fire_in_weekday.head()"
   ]
  },
  {
   "cell_type": "code",
   "execution_count": 42,
   "id": "2801e21b",
   "metadata": {},
   "outputs": [],
   "source": [
    "other_fire_in_weekday = incident.weekend[incident['DESCRIPTION_GROUPE']==\"other fire type\"].value_counts()\n",
    "other_fire_in_weekday = other_fire_in_weekday.to_frame()\n",
    "other_fire_in_weekday = other_fire_in_weekday.reset_index()"
   ]
  },
  {
   "cell_type": "code",
   "execution_count": 43,
   "id": "3402789c",
   "metadata": {},
   "outputs": [
    {
     "data": {
      "text/html": [
       "<div>\n",
       "<style scoped>\n",
       "    .dataframe tbody tr th:only-of-type {\n",
       "        vertical-align: middle;\n",
       "    }\n",
       "\n",
       "    .dataframe tbody tr th {\n",
       "        vertical-align: top;\n",
       "    }\n",
       "\n",
       "    .dataframe thead th {\n",
       "        text-align: right;\n",
       "    }\n",
       "</style>\n",
       "<table border=\"1\" class=\"dataframe\">\n",
       "  <thead>\n",
       "    <tr style=\"text-align: right;\">\n",
       "      <th></th>\n",
       "      <th>weekend</th>\n",
       "      <th>other_count</th>\n",
       "    </tr>\n",
       "  </thead>\n",
       "  <tbody>\n",
       "    <tr>\n",
       "      <th>0</th>\n",
       "      <td>False</td>\n",
       "      <td>13375</td>\n",
       "    </tr>\n",
       "    <tr>\n",
       "      <th>1</th>\n",
       "      <td>True</td>\n",
       "      <td>6128</td>\n",
       "    </tr>\n",
       "  </tbody>\n",
       "</table>\n",
       "</div>"
      ],
      "text/plain": [
       "   weekend  other_count\n",
       "0    False        13375\n",
       "1     True         6128"
      ]
     },
     "execution_count": 43,
     "metadata": {},
     "output_type": "execute_result"
    }
   ],
   "source": [
    "other_fire_in_weekday.columns = ['weekend', 'other_count']\n",
    "other_fire_in_weekday.head()"
   ]
  },
  {
   "cell_type": "code",
   "execution_count": 44,
   "id": "04c6938a",
   "metadata": {},
   "outputs": [
    {
     "data": {
      "text/html": [
       "<div>\n",
       "<style scoped>\n",
       "    .dataframe tbody tr th:only-of-type {\n",
       "        vertical-align: middle;\n",
       "    }\n",
       "\n",
       "    .dataframe tbody tr th {\n",
       "        vertical-align: top;\n",
       "    }\n",
       "\n",
       "    .dataframe thead th {\n",
       "        text-align: right;\n",
       "    }\n",
       "</style>\n",
       "<table border=\"1\" class=\"dataframe\">\n",
       "  <thead>\n",
       "    <tr style=\"text-align: right;\">\n",
       "      <th></th>\n",
       "      <th>weekend</th>\n",
       "      <th>fire_count</th>\n",
       "      <th>other_count</th>\n",
       "    </tr>\n",
       "  </thead>\n",
       "  <tbody>\n",
       "    <tr>\n",
       "      <th>0</th>\n",
       "      <td>False</td>\n",
       "      <td>5781</td>\n",
       "      <td>13375</td>\n",
       "    </tr>\n",
       "    <tr>\n",
       "      <th>1</th>\n",
       "      <td>True</td>\n",
       "      <td>2275</td>\n",
       "      <td>6128</td>\n",
       "    </tr>\n",
       "  </tbody>\n",
       "</table>\n",
       "</div>"
      ],
      "text/plain": [
       "   weekend  fire_count  other_count\n",
       "0    False        5781        13375\n",
       "1     True        2275         6128"
      ]
     },
     "execution_count": 44,
     "metadata": {},
     "output_type": "execute_result"
    }
   ],
   "source": [
    "df_merge_fire_other_weekend = pd.merge(fire_in_weekday, other_fire_in_weekday, on='weekend')\n",
    "df_merge_fire_other_weekend"
   ]
  },
  {
   "cell_type": "code",
   "execution_count": 45,
   "id": "7078bd95",
   "metadata": {},
   "outputs": [
    {
     "data": {
      "image/png": "[encoded data removed]",
      "text/plain": [
       "<Figure size 432x288 with 1 Axes>"
      ]
     },
     "metadata": {
      "needs_background": "light"
     },
     "output_type": "display_data"
    }
   ],
   "source": [
    "count = df_merge_fire_other_weekend.fire_count\n",
    "other_count = df_merge_fire_other_weekend.other_count\n",
    "labels = ['weekday', 'weekend']\n",
    "\n",
    "x = np.arange(len(labels))  # the label locations\n",
    "width = 0.6  # the width of the bars\n",
    "\n",
    "fig, ax = plt.subplots()\n",
    "rects1 = ax.bar(x - width/2, count, width, label='fire')\n",
    "rects2 = ax.bar(x + width/2, other_count, width, label='other fire')\n",
    "\n",
    "# Add some text for labels, title and custom x-axis tick labels, etc.\n",
    "ax.set_ylabel('Count of number of records')\n",
    "ax.set_title('Incident on weekend or weekdays')\n",
    "ax.set_xticks(x)\n",
    "\n",
    "ax.set_xticklabels(labels)\n",
    "ax.legend()\n",
    "\n",
    "ax.bar_label(rects1, padding=3)\n",
    "ax.bar_label(rects2, padding=3)\n",
    "\n",
    "fig.tight_layout()\n",
    "plt.xticks(rotation=90)\n",
    "plt.show()"
   ]
  },
  {
   "cell_type": "markdown",
   "id": "520f92bb",
   "metadata": {},
   "source": [
    "As is clear from the chart, both fire and other fire types had higher levels on weekdays, with the other firetypes being dramatically higher."
   ]
  },
  {
   "cell_type": "markdown",
   "id": "f817b17d",
   "metadata": {},
   "source": [
    "## ANALYZING THE FIRE RATE FOR DIFFERENT YEARS."
   ]
  },
  {
   "cell_type": "code",
   "execution_count": 46,
   "id": "31e3ce86",
   "metadata": {},
   "outputs": [
    {
     "data": {
      "text/html": [
       "<div>\n",
       "<style scoped>\n",
       "    .dataframe tbody tr th:only-of-type {\n",
       "        vertical-align: middle;\n",
       "    }\n",
       "\n",
       "    .dataframe tbody tr th {\n",
       "        vertical-align: top;\n",
       "    }\n",
       "\n",
       "    .dataframe thead th {\n",
       "        text-align: right;\n",
       "    }\n",
       "</style>\n",
       "<table border=\"1\" class=\"dataframe\">\n",
       "  <thead>\n",
       "    <tr style=\"text-align: right;\">\n",
       "      <th></th>\n",
       "      <th>INCIDENT_NBR</th>\n",
       "      <th>CREATION_DATE_TIME</th>\n",
       "      <th>INCIDENT_TYPE_DESC</th>\n",
       "      <th>DESCRIPTION_GROUPE</th>\n",
       "      <th>CASERNE</th>\n",
       "      <th>NOM_VILLE</th>\n",
       "      <th>NOM_ARROND</th>\n",
       "      <th>DIVISION</th>\n",
       "      <th>NOMBRE_UNITES</th>\n",
       "      <th>CIV</th>\n",
       "      <th>MTM8_X</th>\n",
       "      <th>MTM8_Y</th>\n",
       "      <th>LONGITUDE</th>\n",
       "      <th>LATITUDE</th>\n",
       "      <th>New_dt</th>\n",
       "      <th>Day</th>\n",
       "      <th>Month</th>\n",
       "      <th>weekend</th>\n",
       "      <th>day_time</th>\n",
       "      <th>Year</th>\n",
       "    </tr>\n",
       "  </thead>\n",
       "  <tbody>\n",
       "    <tr>\n",
       "      <th>0</th>\n",
       "      <td>14671</td>\n",
       "      <td>2015-02-08T20:14:04</td>\n",
       "      <td>Structure dangereuse</td>\n",
       "      <td>without fire</td>\n",
       "      <td>41</td>\n",
       "      <td>Montréal</td>\n",
       "      <td>Villeray / St-Michel / Parc Extension</td>\n",
       "      <td>8</td>\n",
       "      <td>1.0</td>\n",
       "      <td>NaN</td>\n",
       "      <td>295191.1</td>\n",
       "      <td>5043245.4</td>\n",
       "      <td>-73.623018</td>\n",
       "      <td>45.529059</td>\n",
       "      <td>2015-02-08 20:14:04</td>\n",
       "      <td>Sunday</td>\n",
       "      <td>February</td>\n",
       "      <td>True</td>\n",
       "      <td>evening</td>\n",
       "      <td>2015</td>\n",
       "    </tr>\n",
       "    <tr>\n",
       "      <th>1</th>\n",
       "      <td>14701</td>\n",
       "      <td>2015-02-08T22:06:30</td>\n",
       "      <td>Appel de Cie de détection</td>\n",
       "      <td>fire alarm</td>\n",
       "      <td>28</td>\n",
       "      <td>Montréal</td>\n",
       "      <td>Anjou</td>\n",
       "      <td>9</td>\n",
       "      <td>6.0</td>\n",
       "      <td>1.0</td>\n",
       "      <td>299947.0</td>\n",
       "      <td>5050604.9</td>\n",
       "      <td>-73.562204</td>\n",
       "      <td>45.595332</td>\n",
       "      <td>2015-02-08 22:06:30</td>\n",
       "      <td>Sunday</td>\n",
       "      <td>February</td>\n",
       "      <td>True</td>\n",
       "      <td>night</td>\n",
       "      <td>2015</td>\n",
       "    </tr>\n",
       "    <tr>\n",
       "      <th>2</th>\n",
       "      <td>14707</td>\n",
       "      <td>2015-02-08T22:37:57</td>\n",
       "      <td>Premier répondant</td>\n",
       "      <td>first respondant</td>\n",
       "      <td>39</td>\n",
       "      <td>Montréal</td>\n",
       "      <td>Mercier / Hochelaga-Maisonneuve</td>\n",
       "      <td>7</td>\n",
       "      <td>1.0</td>\n",
       "      <td>1.0</td>\n",
       "      <td>302268.2</td>\n",
       "      <td>5048767.1</td>\n",
       "      <td>-73.532442</td>\n",
       "      <td>45.578807</td>\n",
       "      <td>2015-02-08 22:37:57</td>\n",
       "      <td>Sunday</td>\n",
       "      <td>February</td>\n",
       "      <td>True</td>\n",
       "      <td>night</td>\n",
       "      <td>2015</td>\n",
       "    </tr>\n",
       "    <tr>\n",
       "      <th>3</th>\n",
       "      <td>15481</td>\n",
       "      <td>2015-02-11T02:27:20</td>\n",
       "      <td>Premier répondant</td>\n",
       "      <td>first respondant</td>\n",
       "      <td>29</td>\n",
       "      <td>Montréal</td>\n",
       "      <td>Rosemont / Petite-Patrie</td>\n",
       "      <td>7</td>\n",
       "      <td>1.0</td>\n",
       "      <td>1.0</td>\n",
       "      <td>299604.2</td>\n",
       "      <td>5045286.9</td>\n",
       "      <td>-73.566541</td>\n",
       "      <td>45.547476</td>\n",
       "      <td>2015-02-11 02:27:20</td>\n",
       "      <td>Wednesday</td>\n",
       "      <td>February</td>\n",
       "      <td>False</td>\n",
       "      <td>midnight</td>\n",
       "      <td>2015</td>\n",
       "    </tr>\n",
       "    <tr>\n",
       "      <th>4</th>\n",
       "      <td>15483</td>\n",
       "      <td>2015-02-11T03:27:29</td>\n",
       "      <td>Premier répondant</td>\n",
       "      <td>first respondant</td>\n",
       "      <td>8</td>\n",
       "      <td>Montréal-Est</td>\n",
       "      <td>Indéterminé</td>\n",
       "      <td>9</td>\n",
       "      <td>1.0</td>\n",
       "      <td>1.0</td>\n",
       "      <td>303349.7</td>\n",
       "      <td>5052541.2</td>\n",
       "      <td>-73.518596</td>\n",
       "      <td>45.612770</td>\n",
       "      <td>2015-02-11 03:27:29</td>\n",
       "      <td>Wednesday</td>\n",
       "      <td>February</td>\n",
       "      <td>False</td>\n",
       "      <td>midnight</td>\n",
       "      <td>2015</td>\n",
       "    </tr>\n",
       "  </tbody>\n",
       "</table>\n",
       "</div>"
      ],
      "text/plain": [
       "   INCIDENT_NBR   CREATION_DATE_TIME         INCIDENT_TYPE_DESC  \\\n",
       "0         14671  2015-02-08T20:14:04       Structure dangereuse   \n",
       "1         14701  2015-02-08T22:06:30  Appel de Cie de détection   \n",
       "2         14707  2015-02-08T22:37:57          Premier répondant   \n",
       "3         15481  2015-02-11T02:27:20          Premier répondant   \n",
       "4         15483  2015-02-11T03:27:29          Premier répondant   \n",
       "\n",
       "  DESCRIPTION_GROUPE  CASERNE     NOM_VILLE  \\\n",
       "0       without fire       41      Montréal   \n",
       "1         fire alarm       28      Montréal   \n",
       "2   first respondant       39      Montréal   \n",
       "3   first respondant       29      Montréal   \n",
       "4   first respondant        8  Montréal-Est   \n",
       "\n",
       "                              NOM_ARROND  DIVISION  NOMBRE_UNITES  CIV  \\\n",
       "0  Villeray / St-Michel / Parc Extension         8            1.0  NaN   \n",
       "1                                  Anjou         9            6.0  1.0   \n",
       "2        Mercier / Hochelaga-Maisonneuve         7            1.0  1.0   \n",
       "3               Rosemont / Petite-Patrie         7            1.0  1.0   \n",
       "4                            Indéterminé         9            1.0  1.0   \n",
       "\n",
       "     MTM8_X     MTM8_Y  LONGITUDE   LATITUDE              New_dt        Day  \\\n",
       "0  295191.1  5043245.4 -73.623018  45.529059 2015-02-08 20:14:04     Sunday   \n",
       "1  299947.0  5050604.9 -73.562204  45.595332 2015-02-08 22:06:30     Sunday   \n",
       "2  302268.2  5048767.1 -73.532442  45.578807 2015-02-08 22:37:57     Sunday   \n",
       "3  299604.2  5045286.9 -73.566541  45.547476 2015-02-11 02:27:20  Wednesday   \n",
       "4  303349.7  5052541.2 -73.518596  45.612770 2015-02-11 03:27:29  Wednesday   \n",
       "\n",
       "      Month  weekend  day_time  Year  \n",
       "0  February     True   evening  2015  \n",
       "1  February     True     night  2015  \n",
       "2  February     True     night  2015  \n",
       "3  February    False  midnight  2015  \n",
       "4  February    False  midnight  2015  "
      ]
     },
     "execution_count": 46,
     "metadata": {},
     "output_type": "execute_result"
    }
   ],
   "source": [
    "incident['Year']=incident['New_dt'].dt.year\n",
    "incident.head()"
   ]
  },
  {
   "cell_type": "code",
   "execution_count": null,
   "id": "06f639f2",
   "metadata": {},
   "outputs": [],
   "source": []
  },
  {
   "cell_type": "code",
   "execution_count": 47,
   "id": "7367ec0b",
   "metadata": {},
   "outputs": [],
   "source": [
    "fire_in_year = incident.Year[incident['DESCRIPTION_GROUPE']==\"fire\"].value_counts()\n",
    "fire_in_year = fire_in_year.to_frame()\n",
    "fire_in_year = fire_in_year.reset_index()"
   ]
  },
  {
   "cell_type": "code",
   "execution_count": 48,
   "id": "fdb85748",
   "metadata": {},
   "outputs": [],
   "source": [
    "other_fire_in_year = incident.Year[incident['DESCRIPTION_GROUPE']==\"other fire type\"].value_counts()\n",
    "other_fire_in_year = other_fire_in_year.to_frame()\n",
    "other_fire_in_year = other_fire_in_year.reset_index()"
   ]
  },
  {
   "cell_type": "code",
   "execution_count": 49,
   "id": "30e9ce33",
   "metadata": {},
   "outputs": [
    {
     "data": {
      "text/html": [
       "<div>\n",
       "<style scoped>\n",
       "    .dataframe tbody tr th:only-of-type {\n",
       "        vertical-align: middle;\n",
       "    }\n",
       "\n",
       "    .dataframe tbody tr th {\n",
       "        vertical-align: top;\n",
       "    }\n",
       "\n",
       "    .dataframe thead th {\n",
       "        text-align: right;\n",
       "    }\n",
       "</style>\n",
       "<table border=\"1\" class=\"dataframe\">\n",
       "  <thead>\n",
       "    <tr style=\"text-align: right;\">\n",
       "      <th></th>\n",
       "      <th>year</th>\n",
       "      <th>fire_count</th>\n",
       "    </tr>\n",
       "  </thead>\n",
       "  <tbody>\n",
       "    <tr>\n",
       "      <th>0</th>\n",
       "      <td>2020</td>\n",
       "      <td>1385</td>\n",
       "    </tr>\n",
       "    <tr>\n",
       "      <th>1</th>\n",
       "      <td>2019</td>\n",
       "      <td>1205</td>\n",
       "    </tr>\n",
       "    <tr>\n",
       "      <th>2</th>\n",
       "      <td>2016</td>\n",
       "      <td>1178</td>\n",
       "    </tr>\n",
       "    <tr>\n",
       "      <th>3</th>\n",
       "      <td>2015</td>\n",
       "      <td>1177</td>\n",
       "    </tr>\n",
       "    <tr>\n",
       "      <th>4</th>\n",
       "      <td>2017</td>\n",
       "      <td>1171</td>\n",
       "    </tr>\n",
       "  </tbody>\n",
       "</table>\n",
       "</div>"
      ],
      "text/plain": [
       "   year  fire_count\n",
       "0  2020        1385\n",
       "1  2019        1205\n",
       "2  2016        1178\n",
       "3  2015        1177\n",
       "4  2017        1171"
      ]
     },
     "execution_count": 49,
     "metadata": {},
     "output_type": "execute_result"
    }
   ],
   "source": [
    "fire_in_year.columns = ['year', 'fire_count']\n",
    "fire_in_year.head()"
   ]
  },
  {
   "cell_type": "code",
   "execution_count": 50,
   "id": "66cd119e",
   "metadata": {},
   "outputs": [
    {
     "data": {
      "text/html": [
       "<div>\n",
       "<style scoped>\n",
       "    .dataframe tbody tr th:only-of-type {\n",
       "        vertical-align: middle;\n",
       "    }\n",
       "\n",
       "    .dataframe tbody tr th {\n",
       "        vertical-align: top;\n",
       "    }\n",
       "\n",
       "    .dataframe thead th {\n",
       "        text-align: right;\n",
       "    }\n",
       "</style>\n",
       "<table border=\"1\" class=\"dataframe\">\n",
       "  <thead>\n",
       "    <tr style=\"text-align: right;\">\n",
       "      <th></th>\n",
       "      <th>year</th>\n",
       "      <th>other_count</th>\n",
       "    </tr>\n",
       "  </thead>\n",
       "  <tbody>\n",
       "    <tr>\n",
       "      <th>0</th>\n",
       "      <td>2016</td>\n",
       "      <td>3316</td>\n",
       "    </tr>\n",
       "    <tr>\n",
       "      <th>1</th>\n",
       "      <td>2015</td>\n",
       "      <td>3170</td>\n",
       "    </tr>\n",
       "    <tr>\n",
       "      <th>2</th>\n",
       "      <td>2020</td>\n",
       "      <td>3030</td>\n",
       "    </tr>\n",
       "    <tr>\n",
       "      <th>3</th>\n",
       "      <td>2018</td>\n",
       "      <td>2950</td>\n",
       "    </tr>\n",
       "    <tr>\n",
       "      <th>4</th>\n",
       "      <td>2019</td>\n",
       "      <td>2730</td>\n",
       "    </tr>\n",
       "  </tbody>\n",
       "</table>\n",
       "</div>"
      ],
      "text/plain": [
       "   year  other_count\n",
       "0  2016         3316\n",
       "1  2015         3170\n",
       "2  2020         3030\n",
       "3  2018         2950\n",
       "4  2019         2730"
      ]
     },
     "execution_count": 50,
     "metadata": {},
     "output_type": "execute_result"
    }
   ],
   "source": [
    "other_fire_in_year.columns = ['year','other_count']\n",
    "other_fire_in_year.head()"
   ]
  },
  {
   "cell_type": "code",
   "execution_count": 51,
   "id": "1461e8e5",
   "metadata": {},
   "outputs": [],
   "source": [
    "df_merge_fire_other_year = pd.merge(fire_in_year, other_fire_in_year, on='year')\n",
    "df_merge_fire_other_year = df_merge_fire_other_year.sort_values('year')"
   ]
  },
  {
   "cell_type": "code",
   "execution_count": 52,
   "id": "781a0c11",
   "metadata": {},
   "outputs": [
    {
     "data": {
      "text/html": [
       "<div>\n",
       "<style scoped>\n",
       "    .dataframe tbody tr th:only-of-type {\n",
       "        vertical-align: middle;\n",
       "    }\n",
       "\n",
       "    .dataframe tbody tr th {\n",
       "        vertical-align: top;\n",
       "    }\n",
       "\n",
       "    .dataframe thead th {\n",
       "        text-align: right;\n",
       "    }\n",
       "</style>\n",
       "<table border=\"1\" class=\"dataframe\">\n",
       "  <thead>\n",
       "    <tr style=\"text-align: right;\">\n",
       "      <th></th>\n",
       "      <th>year</th>\n",
       "      <th>fire_count</th>\n",
       "      <th>other_count</th>\n",
       "    </tr>\n",
       "  </thead>\n",
       "  <tbody>\n",
       "    <tr>\n",
       "      <th>3</th>\n",
       "      <td>2015</td>\n",
       "      <td>1177</td>\n",
       "      <td>3170</td>\n",
       "    </tr>\n",
       "    <tr>\n",
       "      <th>2</th>\n",
       "      <td>2016</td>\n",
       "      <td>1178</td>\n",
       "      <td>3316</td>\n",
       "    </tr>\n",
       "    <tr>\n",
       "      <th>4</th>\n",
       "      <td>2017</td>\n",
       "      <td>1171</td>\n",
       "      <td>2660</td>\n",
       "    </tr>\n",
       "    <tr>\n",
       "      <th>5</th>\n",
       "      <td>2018</td>\n",
       "      <td>1171</td>\n",
       "      <td>2950</td>\n",
       "    </tr>\n",
       "    <tr>\n",
       "      <th>1</th>\n",
       "      <td>2019</td>\n",
       "      <td>1205</td>\n",
       "      <td>2730</td>\n",
       "    </tr>\n",
       "    <tr>\n",
       "      <th>0</th>\n",
       "      <td>2020</td>\n",
       "      <td>1385</td>\n",
       "      <td>3030</td>\n",
       "    </tr>\n",
       "    <tr>\n",
       "      <th>6</th>\n",
       "      <td>2021</td>\n",
       "      <td>769</td>\n",
       "      <td>1647</td>\n",
       "    </tr>\n",
       "  </tbody>\n",
       "</table>\n",
       "</div>"
      ],
      "text/plain": [
       "   year  fire_count  other_count\n",
       "3  2015        1177         3170\n",
       "2  2016        1178         3316\n",
       "4  2017        1171         2660\n",
       "5  2018        1171         2950\n",
       "1  2019        1205         2730\n",
       "0  2020        1385         3030\n",
       "6  2021         769         1647"
      ]
     },
     "execution_count": 52,
     "metadata": {},
     "output_type": "execute_result"
    }
   ],
   "source": [
    "df_merge_fire_other_year"
   ]
  },
  {
   "cell_type": "code",
   "execution_count": 53,
   "id": "98f2e846",
   "metadata": {
    "scrolled": true
   },
   "outputs": [
    {
     "data": {
      "image/png": "[encoded data removed]",
      "text/plain": [
       "<Figure size 432x288 with 1 Axes>"
      ]
     },
     "metadata": {
      "needs_background": "light"
     },
     "output_type": "display_data"
    }
   ],
   "source": [
    "\n",
    "x1 = df_merge_fire_other_year.year\n",
    "y1 = df_merge_fire_other_year.fire_count\n",
    "# plotting the line 1 points \n",
    "plt.plot(x1, y1, label = \"Fire count\")\n",
    "# line 2 points\n",
    "x2 = df_merge_fire_other_year.year\n",
    "y2 = df_merge_fire_other_year.other_count\n",
    "# plotting the line 2 points \n",
    "plt.plot(x2, y2, label = \"Other count\")\n",
    "plt.xlabel('Year')\n",
    "# Set the y axis label of the current axis.\n",
    "plt.ylabel('Number of incidents')\n",
    "# Set a title of the current axes.\n",
    "plt.title('Incidents per year ')\n",
    "# show a legend on the plot\n",
    "plt.legend()\n",
    "# Display a figure.\n",
    "plt.show()\n"
   ]
  },
  {
   "cell_type": "markdown",
   "id": "d090e0c3",
   "metadata": {},
   "source": [
    "As we can see, the rate of other types fire had a downward trend, while this figure for fire remainded approximately constant till 2019, and slighlty increased in 2020. As the data for 2021 is not complete, we cannot compare the number of incidents in this year with the previous years."
   ]
  },
  {
   "cell_type": "code",
   "execution_count": 54,
   "id": "0e8c1acc",
   "metadata": {},
   "outputs": [
    {
     "data": {
      "text/plain": [
       "20"
      ]
     },
     "execution_count": 54,
     "metadata": {},
     "output_type": "execute_result"
    }
   ],
   "source": [
    "len(incident.NOM_ARROND.unique())"
   ]
  },
  {
   "cell_type": "markdown",
   "id": "6d1ac432",
   "metadata": {},
   "source": [
    "# Time series Modeling\n"
   ]
  },
  {
   "cell_type": "markdown",
   "id": "112f2c00",
   "metadata": {},
   "source": [
    "### For the time series anaysis, we need the date of the incident and the number of incidents occured.For this, we need to filter the incidents data frame.\n"
   ]
  },
  {
   "cell_type": "code",
   "execution_count": 55,
   "id": "c8248a02",
   "metadata": {},
   "outputs": [],
   "source": [
    "montreal_filtered_fire_incidents = incident[[\"Month\",\"Year\"]][incident[\"DESCRIPTION_GROUPE\"]=='fire']\n",
    "montreal_filtered_fire_incidents.reset_index(drop=True,inplace=True)\n",
    "montreal_filtered_fire_incidents.head()\n",
    "montreal_filtered_fire_incidents[\"count\"]=1"
   ]
  },
  {
   "cell_type": "markdown",
   "id": "8ad7f7d1",
   "metadata": {},
   "source": [
    "### In order to aggregate the number of incidents for each month, first we need to change the month name to a number and assign the first day of each month as a representative of the whole month."
   ]
  },
  {
   "cell_type": "code",
   "execution_count": 56,
   "id": "945495d8",
   "metadata": {},
   "outputs": [],
   "source": [
    "from datetime import datetime\n",
    "def convert_month_name_to_number(name):\n",
    "    m=str(datetime.strptime(name, \"%B\").month)\n",
    "    if len(m) ==1:\n",
    "        m = '0'+ m\n",
    "        \n",
    "    return m"
   ]
  },
  {
   "cell_type": "code",
   "execution_count": 57,
   "id": "43bd5bc7",
   "metadata": {},
   "outputs": [],
   "source": [
    "montreal_filtered_fire_incidents['month_number']=montreal_filtered_fire_incidents.Month.apply(convert_month_name_to_number)\n"
   ]
  },
  {
   "cell_type": "code",
   "execution_count": 58,
   "id": "9ffdd148",
   "metadata": {
    "scrolled": true
   },
   "outputs": [],
   "source": [
    "montreal_filtered_fire_incidents['day']='01'"
   ]
  },
  {
   "cell_type": "code",
   "execution_count": 59,
   "id": "3a96d353",
   "metadata": {},
   "outputs": [],
   "source": [
    "montreal_filtered_fire_incidents['Year'] = montreal_filtered_fire_incidents['Year'].astype(str)"
   ]
  },
  {
   "cell_type": "code",
   "execution_count": 60,
   "id": "00c1afcf",
   "metadata": {},
   "outputs": [],
   "source": [
    "montreal_filtered_fire_incidents['Modeling_date'] = pd.to_datetime(montreal_filtered_fire_incidents[['Year', 'month_number','day']].astype(str).agg('-'.join, axis=1))"
   ]
  },
  {
   "cell_type": "code",
   "execution_count": 61,
   "id": "8779cfcc",
   "metadata": {},
   "outputs": [],
   "source": [
    "montreal_filtered_fire_incidents.drop(['Year','Month','month_number','day'],axis=1,inplace=True)"
   ]
  },
  {
   "cell_type": "code",
   "execution_count": 62,
   "id": "55449a5d",
   "metadata": {},
   "outputs": [
    {
     "data": {
      "text/html": [
       "<div>\n",
       "<style scoped>\n",
       "    .dataframe tbody tr th:only-of-type {\n",
       "        vertical-align: middle;\n",
       "    }\n",
       "\n",
       "    .dataframe tbody tr th {\n",
       "        vertical-align: top;\n",
       "    }\n",
       "\n",
       "    .dataframe thead th {\n",
       "        text-align: right;\n",
       "    }\n",
       "</style>\n",
       "<table border=\"1\" class=\"dataframe\">\n",
       "  <thead>\n",
       "    <tr style=\"text-align: right;\">\n",
       "      <th></th>\n",
       "      <th>count</th>\n",
       "      <th>Modeling_date</th>\n",
       "    </tr>\n",
       "  </thead>\n",
       "  <tbody>\n",
       "    <tr>\n",
       "      <th>0</th>\n",
       "      <td>1</td>\n",
       "      <td>2015-01-01</td>\n",
       "    </tr>\n",
       "    <tr>\n",
       "      <th>1</th>\n",
       "      <td>1</td>\n",
       "      <td>2015-02-01</td>\n",
       "    </tr>\n",
       "    <tr>\n",
       "      <th>2</th>\n",
       "      <td>1</td>\n",
       "      <td>2015-05-01</td>\n",
       "    </tr>\n",
       "    <tr>\n",
       "      <th>3</th>\n",
       "      <td>1</td>\n",
       "      <td>2015-05-01</td>\n",
       "    </tr>\n",
       "    <tr>\n",
       "      <th>4</th>\n",
       "      <td>1</td>\n",
       "      <td>2016-03-01</td>\n",
       "    </tr>\n",
       "  </tbody>\n",
       "</table>\n",
       "</div>"
      ],
      "text/plain": [
       "   count Modeling_date\n",
       "0      1    2015-01-01\n",
       "1      1    2015-02-01\n",
       "2      1    2015-05-01\n",
       "3      1    2015-05-01\n",
       "4      1    2016-03-01"
      ]
     },
     "execution_count": 62,
     "metadata": {},
     "output_type": "execute_result"
    }
   ],
   "source": [
    "montreal_filtered_fire_incidents.head()"
   ]
  },
  {
   "cell_type": "code",
   "execution_count": 63,
   "id": "9f1fb6c6",
   "metadata": {},
   "outputs": [],
   "source": [
    "montreal_agg_fire_incidents = montreal_filtered_fire_incidents.groupby([\"Modeling_date\"]).sum()"
   ]
  },
  {
   "cell_type": "code",
   "execution_count": 64,
   "id": "64950ce1",
   "metadata": {},
   "outputs": [
    {
     "data": {
      "text/html": [
       "<div>\n",
       "<style scoped>\n",
       "    .dataframe tbody tr th:only-of-type {\n",
       "        vertical-align: middle;\n",
       "    }\n",
       "\n",
       "    .dataframe tbody tr th {\n",
       "        vertical-align: top;\n",
       "    }\n",
       "\n",
       "    .dataframe thead th {\n",
       "        text-align: right;\n",
       "    }\n",
       "</style>\n",
       "<table border=\"1\" class=\"dataframe\">\n",
       "  <thead>\n",
       "    <tr style=\"text-align: right;\">\n",
       "      <th></th>\n",
       "      <th>count</th>\n",
       "    </tr>\n",
       "    <tr>\n",
       "      <th>Modeling_date</th>\n",
       "      <th></th>\n",
       "    </tr>\n",
       "  </thead>\n",
       "  <tbody>\n",
       "    <tr>\n",
       "      <th>2015-01-01</th>\n",
       "      <td>104</td>\n",
       "    </tr>\n",
       "    <tr>\n",
       "      <th>2015-02-01</th>\n",
       "      <td>113</td>\n",
       "    </tr>\n",
       "    <tr>\n",
       "      <th>2015-03-01</th>\n",
       "      <td>121</td>\n",
       "    </tr>\n",
       "    <tr>\n",
       "      <th>2015-04-01</th>\n",
       "      <td>96</td>\n",
       "    </tr>\n",
       "    <tr>\n",
       "      <th>2015-05-01</th>\n",
       "      <td>103</td>\n",
       "    </tr>\n",
       "  </tbody>\n",
       "</table>\n",
       "</div>"
      ],
      "text/plain": [
       "               count\n",
       "Modeling_date       \n",
       "2015-01-01       104\n",
       "2015-02-01       113\n",
       "2015-03-01       121\n",
       "2015-04-01        96\n",
       "2015-05-01       103"
      ]
     },
     "execution_count": 64,
     "metadata": {},
     "output_type": "execute_result"
    }
   ],
   "source": [
    "montreal_agg_fire_incidents.head()"
   ]
  },
  {
   "cell_type": "markdown",
   "id": "4832f874",
   "metadata": {},
   "source": [
    "### To investigate the data, we plot it to see if it is seasonal and to see how the trend is."
   ]
  },
  {
   "cell_type": "code",
   "execution_count": 65,
   "id": "f0ceb5b9",
   "metadata": {},
   "outputs": [
    {
     "data": {
      "image/png": "[encoded data removed]",
      "text/plain": [
       "<Figure size 1000x500 with 2 Axes>"
      ]
     },
     "metadata": {
      "needs_background": "light"
     },
     "output_type": "display_data"
    }
   ],
   "source": [
    "# Plot\n",
    "fig, axes = plt.subplots(2, 1, figsize=(10,5), dpi=100, sharex=True)\n",
    "\n",
    "# Usual Differencing\n",
    "axes[0].plot(montreal_agg_fire_incidents[:], label='Original Series')\n",
    "axes[0].plot(montreal_agg_fire_incidents[:].diff(1), label='Usual Differencing')\n",
    "axes[0].set_title('Usual Differencing')\n",
    "axes[0].legend(loc='upper left', fontsize=10)\n",
    "\n",
    "\n",
    "# Seasinal Dei\n",
    "axes[1].plot(montreal_agg_fire_incidents[:], label='Original Series')\n",
    "axes[1].plot(montreal_agg_fire_incidents[:].diff(12), label='Seasonal Differencing', color='green')\n",
    "axes[1].set_title('Seasonal Differencing')\n",
    "plt.legend(loc='upper left', fontsize=10)\n",
    "plt.suptitle('Montreal ', fontsize=16)\n",
    "plt.show()"
   ]
  },
  {
   "cell_type": "markdown",
   "id": "2ffd7c2e",
   "metadata": {},
   "source": [
    "### Test to see if the data is stationary"
   ]
  },
  {
   "cell_type": "code",
   "execution_count": 88,
   "id": "d2921249",
   "metadata": {},
   "outputs": [],
   "source": [
    "def stat_test1(df):\n",
    "    # Test to see if the data is stationary\n",
    "    from pmdarima.arima import ADFTest\n",
    "    adf_test = ADFTest(alpha = 0.05)\n",
    "    return adf_test.should_diff(df),df"
   ]
  },
  {
   "cell_type": "code",
   "execution_count": 89,
   "id": "f3be732a",
   "metadata": {},
   "outputs": [
    {
     "name": "stdout",
     "output_type": "stream",
     "text": [
      "(0.02256849120613596, False)\n"
     ]
    }
   ],
   "source": [
    "z,df = stat_test1(montreal_agg_fire_incidents)\n",
    "print(z)"
   ]
  },
  {
   "cell_type": "markdown",
   "id": "a11a226c",
   "metadata": {},
   "source": [
    "### It is not stationary, so we run the autoarima to find the best value for d, p, q"
   ]
  },
  {
   "cell_type": "markdown",
   "id": "ad123df1",
   "metadata": {},
   "source": [
    "### The data before Jan first 2021 will be assigned for training and the data after that will bed used for testing"
   ]
  },
  {
   "cell_type": "code",
   "execution_count": 66,
   "id": "78b56316",
   "metadata": {},
   "outputs": [],
   "source": [
    "df_train = montreal_agg_fire_incidents[montreal_agg_fire_incidents.index<\"2021-01-01\"]\n",
    "df_test = montreal_agg_fire_incidents[montreal_agg_fire_incidents.index>=\"2021-01-01\"]"
   ]
  },
  {
   "cell_type": "code",
   "execution_count": 67,
   "id": "cad3672c",
   "metadata": {},
   "outputs": [
    {
     "data": {
      "text/html": [
       "<div>\n",
       "<style scoped>\n",
       "    .dataframe tbody tr th:only-of-type {\n",
       "        vertical-align: middle;\n",
       "    }\n",
       "\n",
       "    .dataframe tbody tr th {\n",
       "        vertical-align: top;\n",
       "    }\n",
       "\n",
       "    .dataframe thead th {\n",
       "        text-align: right;\n",
       "    }\n",
       "</style>\n",
       "<table border=\"1\" class=\"dataframe\">\n",
       "  <thead>\n",
       "    <tr style=\"text-align: right;\">\n",
       "      <th></th>\n",
       "      <th>count</th>\n",
       "    </tr>\n",
       "    <tr>\n",
       "      <th>Modeling_date</th>\n",
       "      <th></th>\n",
       "    </tr>\n",
       "  </thead>\n",
       "  <tbody>\n",
       "    <tr>\n",
       "      <th>2020-08-01</th>\n",
       "      <td>123</td>\n",
       "    </tr>\n",
       "    <tr>\n",
       "      <th>2020-09-01</th>\n",
       "      <td>96</td>\n",
       "    </tr>\n",
       "    <tr>\n",
       "      <th>2020-10-01</th>\n",
       "      <td>118</td>\n",
       "    </tr>\n",
       "    <tr>\n",
       "      <th>2020-11-01</th>\n",
       "      <td>106</td>\n",
       "    </tr>\n",
       "    <tr>\n",
       "      <th>2020-12-01</th>\n",
       "      <td>106</td>\n",
       "    </tr>\n",
       "  </tbody>\n",
       "</table>\n",
       "</div>"
      ],
      "text/plain": [
       "               count\n",
       "Modeling_date       \n",
       "2020-08-01       123\n",
       "2020-09-01        96\n",
       "2020-10-01       118\n",
       "2020-11-01       106\n",
       "2020-12-01       106"
      ]
     },
     "execution_count": 67,
     "metadata": {},
     "output_type": "execute_result"
    }
   ],
   "source": [
    "df_train.tail()"
   ]
  },
  {
   "cell_type": "markdown",
   "id": "717cc9fb",
   "metadata": {},
   "source": [
    "### To find the best P,Q,D for our ARIMA model, we use auto_ARIMA."
   ]
  },
  {
   "cell_type": "code",
   "execution_count": 68,
   "id": "1038f85d",
   "metadata": {},
   "outputs": [
    {
     "name": "stdout",
     "output_type": "stream",
     "text": [
      "Performing stepwise search to minimize aic\n",
      " ARIMA(1,0,1)(0,1,1)[12] intercept   : AIC=536.036, Time=1.14 sec\n",
      " ARIMA(0,0,0)(0,1,0)[12] intercept   : AIC=554.378, Time=0.02 sec\n",
      " ARIMA(1,0,0)(1,1,0)[12] intercept   : AIC=530.940, Time=0.41 sec\n",
      " ARIMA(0,0,1)(0,1,1)[12] intercept   : AIC=inf, Time=0.43 sec\n",
      " ARIMA(0,0,0)(0,1,0)[12]             : AIC=553.643, Time=0.03 sec\n",
      " ARIMA(1,0,0)(0,1,0)[12] intercept   : AIC=556.376, Time=0.11 sec\n",
      " ARIMA(1,0,0)(2,1,0)[12] intercept   : AIC=532.443, Time=0.99 sec\n",
      " ARIMA(1,0,0)(1,1,1)[12] intercept   : AIC=531.862, Time=0.51 sec\n",
      " ARIMA(1,0,0)(0,1,1)[12] intercept   : AIC=inf, Time=0.50 sec\n",
      " ARIMA(1,0,0)(2,1,1)[12] intercept   : AIC=inf, Time=3.14 sec\n",
      " ARIMA(0,0,0)(1,1,0)[12] intercept   : AIC=529.325, Time=0.24 sec\n",
      " ARIMA(0,0,0)(2,1,0)[12] intercept   : AIC=531.000, Time=0.76 sec\n",
      " ARIMA(0,0,0)(1,1,1)[12] intercept   : AIC=530.572, Time=0.44 sec\n",
      " ARIMA(0,0,0)(0,1,1)[12] intercept   : AIC=532.866, Time=0.27 sec\n",
      " ARIMA(0,0,0)(2,1,1)[12] intercept   : AIC=inf, Time=2.07 sec\n",
      " ARIMA(0,0,1)(1,1,0)[12] intercept   : AIC=530.987, Time=0.39 sec\n",
      " ARIMA(1,0,1)(1,1,0)[12] intercept   : AIC=532.217, Time=0.86 sec\n",
      " ARIMA(0,0,0)(1,1,0)[12]             : AIC=530.383, Time=0.12 sec\n",
      "\n",
      "Best model:  ARIMA(0,0,0)(1,1,0)[12] intercept\n",
      "Total fit time: 12.463 seconds\n"
     ]
    },
    {
     "data": {
      "text/html": [
       "<table class=\"simpletable\">\n",
       "<caption>SARIMAX Results</caption>\n",
       "<tr>\n",
       "  <th>Dep. Variable:</th>             <td>y</td>          <th>  No. Observations:  </th>    <td>72</td>   \n",
       "</tr>\n",
       "<tr>\n",
       "  <th>Model:</th>           <td>SARIMAX(1, 1, 0, 12)</td> <th>  Log Likelihood     </th> <td>-261.663</td>\n",
       "</tr>\n",
       "<tr>\n",
       "  <th>Date:</th>              <td>Mon, 09 Aug 2021</td>   <th>  AIC                </th>  <td>529.325</td>\n",
       "</tr>\n",
       "<tr>\n",
       "  <th>Time:</th>                  <td>13:08:06</td>       <th>  BIC                </th>  <td>535.608</td>\n",
       "</tr>\n",
       "<tr>\n",
       "  <th>Sample:</th>                    <td>0</td>          <th>  HQIC               </th>  <td>531.783</td>\n",
       "</tr>\n",
       "<tr>\n",
       "  <th></th>                         <td> - 72</td>        <th>                     </th>     <td> </td>   \n",
       "</tr>\n",
       "<tr>\n",
       "  <th>Covariance Type:</th>          <td>opg</td>         <th>                     </th>     <td> </td>   \n",
       "</tr>\n",
       "</table>\n",
       "<table class=\"simpletable\">\n",
       "<tr>\n",
       "      <td></td>         <th>coef</th>     <th>std err</th>      <th>z</th>      <th>P>|z|</th>  <th>[0.025</th>    <th>0.975]</th>  \n",
       "</tr>\n",
       "<tr>\n",
       "  <th>intercept</th> <td>    4.4766</td> <td>    2.519</td> <td>    1.777</td> <td> 0.076</td> <td>   -0.460</td> <td>    9.413</td>\n",
       "</tr>\n",
       "<tr>\n",
       "  <th>ar.S.L12</th>  <td>   -0.6587</td> <td>    0.107</td> <td>   -6.183</td> <td> 0.000</td> <td>   -0.868</td> <td>   -0.450</td>\n",
       "</tr>\n",
       "<tr>\n",
       "  <th>sigma2</th>    <td>  320.7201</td> <td>   69.598</td> <td>    4.608</td> <td> 0.000</td> <td>  184.310</td> <td>  457.131</td>\n",
       "</tr>\n",
       "</table>\n",
       "<table class=\"simpletable\">\n",
       "<tr>\n",
       "  <th>Ljung-Box (L1) (Q):</th>     <td>0.29</td> <th>  Jarque-Bera (JB):  </th> <td>0.47</td>\n",
       "</tr>\n",
       "<tr>\n",
       "  <th>Prob(Q):</th>                <td>0.59</td> <th>  Prob(JB):          </th> <td>0.79</td>\n",
       "</tr>\n",
       "<tr>\n",
       "  <th>Heteroskedasticity (H):</th> <td>1.04</td> <th>  Skew:              </th> <td>0.19</td>\n",
       "</tr>\n",
       "<tr>\n",
       "  <th>Prob(H) (two-sided):</th>    <td>0.93</td> <th>  Kurtosis:          </th> <td>2.79</td>\n",
       "</tr>\n",
       "</table><br/><br/>Warnings:<br/>[1] Covariance matrix calculated using the outer product of gradients (complex-step)."
      ],
      "text/plain": [
       "<class 'statsmodels.iolib.summary.Summary'>\n",
       "\"\"\"\n",
       "                                SARIMAX Results                                 \n",
       "================================================================================\n",
       "Dep. Variable:                        y   No. Observations:                   72\n",
       "Model:             SARIMAX(1, 1, 0, 12)   Log Likelihood                -261.663\n",
       "Date:                  Mon, 09 Aug 2021   AIC                            529.325\n",
       "Time:                          13:08:06   BIC                            535.608\n",
       "Sample:                               0   HQIC                           531.783\n",
       "                                   - 72                                         \n",
       "Covariance Type:                    opg                                         \n",
       "==============================================================================\n",
       "                 coef    std err          z      P>|z|      [0.025      0.975]\n",
       "------------------------------------------------------------------------------\n",
       "intercept      4.4766      2.519      1.777      0.076      -0.460       9.413\n",
       "ar.S.L12      -0.6587      0.107     -6.183      0.000      -0.868      -0.450\n",
       "sigma2       320.7201     69.598      4.608      0.000     184.310     457.131\n",
       "===================================================================================\n",
       "Ljung-Box (L1) (Q):                   0.29   Jarque-Bera (JB):                 0.47\n",
       "Prob(Q):                              0.59   Prob(JB):                         0.79\n",
       "Heteroskedasticity (H):               1.04   Skew:                             0.19\n",
       "Prob(H) (two-sided):                  0.93   Kurtosis:                         2.79\n",
       "===================================================================================\n",
       "\n",
       "Warnings:\n",
       "[1] Covariance matrix calculated using the outer product of gradients (complex-step).\n",
       "\"\"\""
      ]
     },
     "execution_count": 68,
     "metadata": {},
     "output_type": "execute_result"
    }
   ],
   "source": [
    "import pmdarima as pm\n",
    "\n",
    "# Seasonal - fit stepwise auto-ARIMA\n",
    "smodel = pm.auto_arima(df_train, start_p=1, start_q=1,\n",
    "                         test='adf',\n",
    "                         max_p=3, max_q=3, m=12,\n",
    "                         start_P=0, seasonal=True,\n",
    "                         d=None, D=1, trace=True,\n",
    "                         error_action='ignore',  \n",
    "                         suppress_warnings=True, \n",
    "                         stepwise=True)\n",
    "\n",
    "smodel.summary()"
   ]
  },
  {
   "cell_type": "markdown",
   "id": "39bfbd19",
   "metadata": {},
   "source": [
    "### To see how accurate our model predicts the future data, we predict its 8 future steps(months) and then compare it with our test set results."
   ]
  },
  {
   "cell_type": "code",
   "execution_count": 69,
   "id": "ff455ed2",
   "metadata": {},
   "outputs": [
    {
     "data": {
      "image/png": "[encoded data removed]",
      "text/plain": [
       "<Figure size 432x288 with 1 Axes>"
      ]
     },
     "metadata": {
      "needs_background": "light"
     },
     "output_type": "display_data"
    }
   ],
   "source": [
    "# Forecast\n",
    "n_periods = 8\n",
    "fitted, confint = smodel.predict(n_periods=n_periods, return_conf_int=True)\n",
    "index_of_fc = pd.date_range(df_train.index[-1], periods = n_periods, freq='MS')\n",
    "\n",
    "# make series for plotting purpose\n",
    "fitted_series = pd.Series(fitted, index=index_of_fc)\n",
    "lower_series = pd.Series(confint[:, 0], index=index_of_fc)\n",
    "upper_series = pd.Series(confint[:, 1], index=index_of_fc)\n",
    "\n",
    "# Plot\n",
    "plt.plot(montreal_agg_fire_incidents)\n",
    "plt.plot(fitted_series, color='darkgreen')\n",
    "plt.fill_between(lower_series.index, \n",
    "                 lower_series, \n",
    "                 upper_series, \n",
    "                 color='k', alpha=.15)\n",
    "\n",
    "plt.title(\"SARIMA - Final Forecast of Montreal fire incidents\")\n",
    "plt.show()"
   ]
  },
  {
   "cell_type": "markdown",
   "id": "fcd8d247",
   "metadata": {},
   "source": [
    "### Here, we can see the predicted results and the expected ones and at the end we calculate RSME( Root mean square error) to see how accurate  the predictions are."
   ]
  },
  {
   "cell_type": "code",
   "execution_count": 70,
   "id": "7dfd686b",
   "metadata": {
    "scrolled": true
   },
   "outputs": [
    {
     "name": "stdout",
     "output_type": "stream",
     "text": [
      "predicted value is: 86.88931095869209 expexted value is: 99\n",
      "predicted value is: 112.11155563107577 expexted value is: 96\n",
      "predicted value is: 110.1829697702577 expexted value is: 113\n",
      "predicted value is: 123.77808759677369 expexted value is: 123\n",
      "predicted value is: 137.0083345239953 expexted value is: 127\n",
      "predicted value is: 111.81789681951017 expexted value is: 120\n",
      "predicted value is: 105.07974866317721 expexted value is: 87\n",
      "11.394127420085917\n"
     ]
    }
   ],
   "source": [
    "expected = df_test['count'][:7]\n",
    "\n",
    "for i in range(7):\n",
    "    print(\"predicted value is:\", fitted_series[i+1],\"expexted value is:\",expected[i])\n",
    "\n",
    "from sklearn.metrics import mean_squared_error\n",
    "from math import sqrt\n",
    "rsme = sqrt(mean_squared_error(expected, fitted_series[1:]))\n",
    "print(rsme)"
   ]
  },
  {
   "cell_type": "markdown",
   "id": "674f24c3",
   "metadata": {},
   "source": [
    "### As is shown below, the accuracy of our model for the test period is 0.89."
   ]
  },
  {
   "cell_type": "code",
   "execution_count": 71,
   "id": "5043f162",
   "metadata": {},
   "outputs": [
    {
     "name": "stdout",
     "output_type": "stream",
     "text": [
      "0.8957400105351615\n"
     ]
    }
   ],
   "source": [
    "accuracy = 1- (rsme / expected.mean())\n",
    "print(accuracy)"
   ]
  },
  {
   "cell_type": "markdown",
   "id": "0e2d1802",
   "metadata": {},
   "source": [
    "### This method also can be carried out for each of the neighborhoods separetely. The steps would be the same, but this time the aggregation will be done by both the neighborhood name and the date. "
   ]
  },
  {
   "cell_type": "code",
   "execution_count": 72,
   "id": "555b9b06",
   "metadata": {
    "scrolled": true
   },
   "outputs": [],
   "source": [
    "filtered_fire_icidents = incident[[\"NOM_ARROND\",\"Month\",\"Year\"]][incident[\"DESCRIPTION_GROUPE\"]=='fire']\n",
    "filtered_fire_icidents.reset_index(drop=True,inplace=True)\n",
    "filtered_fire_icidents.head()\n",
    "filtered_fire_icidents[\"count\"]=1"
   ]
  },
  {
   "cell_type": "code",
   "execution_count": 73,
   "id": "b9032fc3",
   "metadata": {},
   "outputs": [],
   "source": [
    "agg_fire_incidents = filtered_fire_icidents.groupby([\"NOM_ARROND\",\"Year\",\"Month\"]).sum()"
   ]
  },
  {
   "cell_type": "code",
   "execution_count": 74,
   "id": "8c779a2d",
   "metadata": {},
   "outputs": [
    {
     "data": {
      "text/html": [
       "<div>\n",
       "<style scoped>\n",
       "    .dataframe tbody tr th:only-of-type {\n",
       "        vertical-align: middle;\n",
       "    }\n",
       "\n",
       "    .dataframe tbody tr th {\n",
       "        vertical-align: top;\n",
       "    }\n",
       "\n",
       "    .dataframe thead th {\n",
       "        text-align: right;\n",
       "    }\n",
       "</style>\n",
       "<table border=\"1\" class=\"dataframe\">\n",
       "  <thead>\n",
       "    <tr style=\"text-align: right;\">\n",
       "      <th></th>\n",
       "      <th>NOM_ARROND</th>\n",
       "      <th>Year</th>\n",
       "      <th>Month</th>\n",
       "      <th>count</th>\n",
       "    </tr>\n",
       "  </thead>\n",
       "  <tbody>\n",
       "    <tr>\n",
       "      <th>0</th>\n",
       "      <td>Ahuntsic / Cartierville</td>\n",
       "      <td>2015</td>\n",
       "      <td>April</td>\n",
       "      <td>5</td>\n",
       "    </tr>\n",
       "    <tr>\n",
       "      <th>1</th>\n",
       "      <td>Ahuntsic / Cartierville</td>\n",
       "      <td>2015</td>\n",
       "      <td>August</td>\n",
       "      <td>5</td>\n",
       "    </tr>\n",
       "    <tr>\n",
       "      <th>2</th>\n",
       "      <td>Ahuntsic / Cartierville</td>\n",
       "      <td>2015</td>\n",
       "      <td>December</td>\n",
       "      <td>6</td>\n",
       "    </tr>\n",
       "    <tr>\n",
       "      <th>3</th>\n",
       "      <td>Ahuntsic / Cartierville</td>\n",
       "      <td>2015</td>\n",
       "      <td>February</td>\n",
       "      <td>7</td>\n",
       "    </tr>\n",
       "    <tr>\n",
       "      <th>4</th>\n",
       "      <td>Ahuntsic / Cartierville</td>\n",
       "      <td>2015</td>\n",
       "      <td>January</td>\n",
       "      <td>9</td>\n",
       "    </tr>\n",
       "  </tbody>\n",
       "</table>\n",
       "</div>"
      ],
      "text/plain": [
       "                NOM_ARROND  Year     Month  count\n",
       "0  Ahuntsic / Cartierville  2015     April      5\n",
       "1  Ahuntsic / Cartierville  2015    August      5\n",
       "2  Ahuntsic / Cartierville  2015  December      6\n",
       "3  Ahuntsic / Cartierville  2015  February      7\n",
       "4  Ahuntsic / Cartierville  2015   January      9"
      ]
     },
     "execution_count": 74,
     "metadata": {},
     "output_type": "execute_result"
    }
   ],
   "source": [
    "agg_fire_incidents.reset_index(inplace=True)\n",
    "agg_fire_incidents.head()"
   ]
  },
  {
   "cell_type": "code",
   "execution_count": 75,
   "id": "e1fb3af1",
   "metadata": {},
   "outputs": [],
   "source": [
    "filtered_other_icidents = incident[[\"NOM_ARROND\",\"Month\",\"Year\"]][incident[\"DESCRIPTION_GROUPE\"]=='other fire type']\n",
    "filtered_other_icidents.reset_index(drop=True,inplace=True)\n",
    "filtered_other_icidents.head()\n",
    "filtered_other_icidents[\"count\"]=1"
   ]
  },
  {
   "cell_type": "code",
   "execution_count": 76,
   "id": "a1856fa7",
   "metadata": {},
   "outputs": [],
   "source": [
    "agg_other_icidents = filtered_other_icidents.groupby([\"NOM_ARROND\",\"Year\",\"Month\"]).sum()"
   ]
  },
  {
   "cell_type": "code",
   "execution_count": 77,
   "id": "7dda4cd7",
   "metadata": {},
   "outputs": [
    {
     "data": {
      "text/html": [
       "<div>\n",
       "<style scoped>\n",
       "    .dataframe tbody tr th:only-of-type {\n",
       "        vertical-align: middle;\n",
       "    }\n",
       "\n",
       "    .dataframe tbody tr th {\n",
       "        vertical-align: top;\n",
       "    }\n",
       "\n",
       "    .dataframe thead th {\n",
       "        text-align: right;\n",
       "    }\n",
       "</style>\n",
       "<table border=\"1\" class=\"dataframe\">\n",
       "  <thead>\n",
       "    <tr style=\"text-align: right;\">\n",
       "      <th></th>\n",
       "      <th>NOM_ARROND</th>\n",
       "      <th>Year</th>\n",
       "      <th>Month</th>\n",
       "      <th>count</th>\n",
       "    </tr>\n",
       "  </thead>\n",
       "  <tbody>\n",
       "    <tr>\n",
       "      <th>0</th>\n",
       "      <td>Ahuntsic / Cartierville</td>\n",
       "      <td>2015</td>\n",
       "      <td>April</td>\n",
       "      <td>21</td>\n",
       "    </tr>\n",
       "    <tr>\n",
       "      <th>1</th>\n",
       "      <td>Ahuntsic / Cartierville</td>\n",
       "      <td>2015</td>\n",
       "      <td>August</td>\n",
       "      <td>18</td>\n",
       "    </tr>\n",
       "    <tr>\n",
       "      <th>2</th>\n",
       "      <td>Ahuntsic / Cartierville</td>\n",
       "      <td>2015</td>\n",
       "      <td>December</td>\n",
       "      <td>4</td>\n",
       "    </tr>\n",
       "    <tr>\n",
       "      <th>3</th>\n",
       "      <td>Ahuntsic / Cartierville</td>\n",
       "      <td>2015</td>\n",
       "      <td>February</td>\n",
       "      <td>7</td>\n",
       "    </tr>\n",
       "    <tr>\n",
       "      <th>4</th>\n",
       "      <td>Ahuntsic / Cartierville</td>\n",
       "      <td>2015</td>\n",
       "      <td>January</td>\n",
       "      <td>4</td>\n",
       "    </tr>\n",
       "  </tbody>\n",
       "</table>\n",
       "</div>"
      ],
      "text/plain": [
       "                NOM_ARROND  Year     Month  count\n",
       "0  Ahuntsic / Cartierville  2015     April     21\n",
       "1  Ahuntsic / Cartierville  2015    August     18\n",
       "2  Ahuntsic / Cartierville  2015  December      4\n",
       "3  Ahuntsic / Cartierville  2015  February      7\n",
       "4  Ahuntsic / Cartierville  2015   January      4"
      ]
     },
     "execution_count": 77,
     "metadata": {},
     "output_type": "execute_result"
    }
   ],
   "source": [
    "agg_other_icidents.reset_index(inplace=True)\n",
    "agg_other_icidents.head()"
   ]
  },
  {
   "cell_type": "code",
   "execution_count": 78,
   "id": "4c6ae3e2",
   "metadata": {},
   "outputs": [
    {
     "data": {
      "text/html": [
       "<div>\n",
       "<style scoped>\n",
       "    .dataframe tbody tr th:only-of-type {\n",
       "        vertical-align: middle;\n",
       "    }\n",
       "\n",
       "    .dataframe tbody tr th {\n",
       "        vertical-align: top;\n",
       "    }\n",
       "\n",
       "    .dataframe thead th {\n",
       "        text-align: right;\n",
       "    }\n",
       "</style>\n",
       "<table border=\"1\" class=\"dataframe\">\n",
       "  <thead>\n",
       "    <tr style=\"text-align: right;\">\n",
       "      <th></th>\n",
       "      <th>NOM_ARROND</th>\n",
       "      <th>Year</th>\n",
       "      <th>Month</th>\n",
       "      <th>count</th>\n",
       "      <th>month_number</th>\n",
       "    </tr>\n",
       "  </thead>\n",
       "  <tbody>\n",
       "    <tr>\n",
       "      <th>0</th>\n",
       "      <td>Ahuntsic / Cartierville</td>\n",
       "      <td>2015</td>\n",
       "      <td>April</td>\n",
       "      <td>5</td>\n",
       "      <td>04</td>\n",
       "    </tr>\n",
       "    <tr>\n",
       "      <th>1</th>\n",
       "      <td>Ahuntsic / Cartierville</td>\n",
       "      <td>2015</td>\n",
       "      <td>August</td>\n",
       "      <td>5</td>\n",
       "      <td>08</td>\n",
       "    </tr>\n",
       "    <tr>\n",
       "      <th>2</th>\n",
       "      <td>Ahuntsic / Cartierville</td>\n",
       "      <td>2015</td>\n",
       "      <td>December</td>\n",
       "      <td>6</td>\n",
       "      <td>12</td>\n",
       "    </tr>\n",
       "    <tr>\n",
       "      <th>3</th>\n",
       "      <td>Ahuntsic / Cartierville</td>\n",
       "      <td>2015</td>\n",
       "      <td>February</td>\n",
       "      <td>7</td>\n",
       "      <td>02</td>\n",
       "    </tr>\n",
       "    <tr>\n",
       "      <th>4</th>\n",
       "      <td>Ahuntsic / Cartierville</td>\n",
       "      <td>2015</td>\n",
       "      <td>January</td>\n",
       "      <td>9</td>\n",
       "      <td>01</td>\n",
       "    </tr>\n",
       "  </tbody>\n",
       "</table>\n",
       "</div>"
      ],
      "text/plain": [
       "                NOM_ARROND  Year     Month  count month_number\n",
       "0  Ahuntsic / Cartierville  2015     April      5           04\n",
       "1  Ahuntsic / Cartierville  2015    August      5           08\n",
       "2  Ahuntsic / Cartierville  2015  December      6           12\n",
       "3  Ahuntsic / Cartierville  2015  February      7           02\n",
       "4  Ahuntsic / Cartierville  2015   January      9           01"
      ]
     },
     "execution_count": 78,
     "metadata": {},
     "output_type": "execute_result"
    }
   ],
   "source": [
    "agg_fire_incidents['month_number']=agg_fire_incidents.Month.apply(convert_month_name_to_number)\n",
    "agg_fire_incidents.head()"
   ]
  },
  {
   "cell_type": "code",
   "execution_count": 79,
   "id": "ebb75b3e",
   "metadata": {
    "scrolled": true
   },
   "outputs": [],
   "source": [
    "agg_fire_incidents['day']='01'"
   ]
  },
  {
   "cell_type": "code",
   "execution_count": 80,
   "id": "b9227017",
   "metadata": {},
   "outputs": [],
   "source": [
    "agg_fire_incidents['Year'] = agg_fire_incidents['Year'].astype(str)"
   ]
  },
  {
   "cell_type": "code",
   "execution_count": 81,
   "id": "2258d00c",
   "metadata": {},
   "outputs": [],
   "source": [
    "agg_fire_incidents['Modeling_date'] = pd.to_datetime(agg_fire_incidents[['Year', 'month_number','day']].astype(str).agg('-'.join, axis=1))"
   ]
  },
  {
   "cell_type": "code",
   "execution_count": 82,
   "id": "a9837576",
   "metadata": {},
   "outputs": [
    {
     "data": {
      "text/html": [
       "<div>\n",
       "<style scoped>\n",
       "    .dataframe tbody tr th:only-of-type {\n",
       "        vertical-align: middle;\n",
       "    }\n",
       "\n",
       "    .dataframe tbody tr th {\n",
       "        vertical-align: top;\n",
       "    }\n",
       "\n",
       "    .dataframe thead th {\n",
       "        text-align: right;\n",
       "    }\n",
       "</style>\n",
       "<table border=\"1\" class=\"dataframe\">\n",
       "  <thead>\n",
       "    <tr style=\"text-align: right;\">\n",
       "      <th></th>\n",
       "      <th>NOM_ARROND</th>\n",
       "      <th>Year</th>\n",
       "      <th>Month</th>\n",
       "      <th>count</th>\n",
       "      <th>month_number</th>\n",
       "      <th>day</th>\n",
       "      <th>Modeling_date</th>\n",
       "    </tr>\n",
       "  </thead>\n",
       "  <tbody>\n",
       "    <tr>\n",
       "      <th>0</th>\n",
       "      <td>Ahuntsic / Cartierville</td>\n",
       "      <td>2015</td>\n",
       "      <td>April</td>\n",
       "      <td>5</td>\n",
       "      <td>04</td>\n",
       "      <td>01</td>\n",
       "      <td>2015-04-01</td>\n",
       "    </tr>\n",
       "    <tr>\n",
       "      <th>1</th>\n",
       "      <td>Ahuntsic / Cartierville</td>\n",
       "      <td>2015</td>\n",
       "      <td>August</td>\n",
       "      <td>5</td>\n",
       "      <td>08</td>\n",
       "      <td>01</td>\n",
       "      <td>2015-08-01</td>\n",
       "    </tr>\n",
       "    <tr>\n",
       "      <th>2</th>\n",
       "      <td>Ahuntsic / Cartierville</td>\n",
       "      <td>2015</td>\n",
       "      <td>December</td>\n",
       "      <td>6</td>\n",
       "      <td>12</td>\n",
       "      <td>01</td>\n",
       "      <td>2015-12-01</td>\n",
       "    </tr>\n",
       "    <tr>\n",
       "      <th>3</th>\n",
       "      <td>Ahuntsic / Cartierville</td>\n",
       "      <td>2015</td>\n",
       "      <td>February</td>\n",
       "      <td>7</td>\n",
       "      <td>02</td>\n",
       "      <td>01</td>\n",
       "      <td>2015-02-01</td>\n",
       "    </tr>\n",
       "    <tr>\n",
       "      <th>4</th>\n",
       "      <td>Ahuntsic / Cartierville</td>\n",
       "      <td>2015</td>\n",
       "      <td>January</td>\n",
       "      <td>9</td>\n",
       "      <td>01</td>\n",
       "      <td>01</td>\n",
       "      <td>2015-01-01</td>\n",
       "    </tr>\n",
       "  </tbody>\n",
       "</table>\n",
       "</div>"
      ],
      "text/plain": [
       "                NOM_ARROND  Year     Month  count month_number day  \\\n",
       "0  Ahuntsic / Cartierville  2015     April      5           04  01   \n",
       "1  Ahuntsic / Cartierville  2015    August      5           08  01   \n",
       "2  Ahuntsic / Cartierville  2015  December      6           12  01   \n",
       "3  Ahuntsic / Cartierville  2015  February      7           02  01   \n",
       "4  Ahuntsic / Cartierville  2015   January      9           01  01   \n",
       "\n",
       "  Modeling_date  \n",
       "0    2015-04-01  \n",
       "1    2015-08-01  \n",
       "2    2015-12-01  \n",
       "3    2015-02-01  \n",
       "4    2015-01-01  "
      ]
     },
     "execution_count": 82,
     "metadata": {},
     "output_type": "execute_result"
    }
   ],
   "source": [
    "agg_fire_incidents.head()"
   ]
  },
  {
   "cell_type": "code",
   "execution_count": 83,
   "id": "2c65423e",
   "metadata": {},
   "outputs": [],
   "source": [
    "agg_fire_incidents.drop(['Year','Month','month_number','day'],axis=1,inplace=True)"
   ]
  },
  {
   "cell_type": "code",
   "execution_count": 84,
   "id": "3ee96237",
   "metadata": {},
   "outputs": [
    {
     "data": {
      "text/html": [
       "<div>\n",
       "<style scoped>\n",
       "    .dataframe tbody tr th:only-of-type {\n",
       "        vertical-align: middle;\n",
       "    }\n",
       "\n",
       "    .dataframe tbody tr th {\n",
       "        vertical-align: top;\n",
       "    }\n",
       "\n",
       "    .dataframe thead th {\n",
       "        text-align: right;\n",
       "    }\n",
       "</style>\n",
       "<table border=\"1\" class=\"dataframe\">\n",
       "  <thead>\n",
       "    <tr style=\"text-align: right;\">\n",
       "      <th></th>\n",
       "      <th>NOM_ARROND</th>\n",
       "      <th>count</th>\n",
       "      <th>Modeling_date</th>\n",
       "    </tr>\n",
       "  </thead>\n",
       "  <tbody>\n",
       "    <tr>\n",
       "      <th>0</th>\n",
       "      <td>Ahuntsic / Cartierville</td>\n",
       "      <td>5</td>\n",
       "      <td>2015-04-01</td>\n",
       "    </tr>\n",
       "    <tr>\n",
       "      <th>1</th>\n",
       "      <td>Ahuntsic / Cartierville</td>\n",
       "      <td>5</td>\n",
       "      <td>2015-08-01</td>\n",
       "    </tr>\n",
       "    <tr>\n",
       "      <th>2</th>\n",
       "      <td>Ahuntsic / Cartierville</td>\n",
       "      <td>6</td>\n",
       "      <td>2015-12-01</td>\n",
       "    </tr>\n",
       "    <tr>\n",
       "      <th>3</th>\n",
       "      <td>Ahuntsic / Cartierville</td>\n",
       "      <td>7</td>\n",
       "      <td>2015-02-01</td>\n",
       "    </tr>\n",
       "    <tr>\n",
       "      <th>4</th>\n",
       "      <td>Ahuntsic / Cartierville</td>\n",
       "      <td>9</td>\n",
       "      <td>2015-01-01</td>\n",
       "    </tr>\n",
       "  </tbody>\n",
       "</table>\n",
       "</div>"
      ],
      "text/plain": [
       "                NOM_ARROND  count Modeling_date\n",
       "0  Ahuntsic / Cartierville      5    2015-04-01\n",
       "1  Ahuntsic / Cartierville      5    2015-08-01\n",
       "2  Ahuntsic / Cartierville      6    2015-12-01\n",
       "3  Ahuntsic / Cartierville      7    2015-02-01\n",
       "4  Ahuntsic / Cartierville      9    2015-01-01"
      ]
     },
     "execution_count": 84,
     "metadata": {},
     "output_type": "execute_result"
    }
   ],
   "source": [
    "agg_fire_incidents.head()"
   ]
  },
  {
   "cell_type": "code",
   "execution_count": 85,
   "id": "9dab95d2",
   "metadata": {},
   "outputs": [],
   "source": [
    "agg_fire_incidents = agg_fire_incidents.set_index(['Modeling_date'])"
   ]
  },
  {
   "cell_type": "code",
   "execution_count": 86,
   "id": "d4452f33",
   "metadata": {},
   "outputs": [
    {
     "data": {
      "text/html": [
       "<div>\n",
       "<style scoped>\n",
       "    .dataframe tbody tr th:only-of-type {\n",
       "        vertical-align: middle;\n",
       "    }\n",
       "\n",
       "    .dataframe tbody tr th {\n",
       "        vertical-align: top;\n",
       "    }\n",
       "\n",
       "    .dataframe thead th {\n",
       "        text-align: right;\n",
       "    }\n",
       "</style>\n",
       "<table border=\"1\" class=\"dataframe\">\n",
       "  <thead>\n",
       "    <tr style=\"text-align: right;\">\n",
       "      <th></th>\n",
       "      <th>NOM_ARROND</th>\n",
       "      <th>count</th>\n",
       "    </tr>\n",
       "    <tr>\n",
       "      <th>Modeling_date</th>\n",
       "      <th></th>\n",
       "      <th></th>\n",
       "    </tr>\n",
       "  </thead>\n",
       "  <tbody>\n",
       "    <tr>\n",
       "      <th>2015-04-01</th>\n",
       "      <td>Ahuntsic / Cartierville</td>\n",
       "      <td>5</td>\n",
       "    </tr>\n",
       "    <tr>\n",
       "      <th>2015-08-01</th>\n",
       "      <td>Ahuntsic / Cartierville</td>\n",
       "      <td>5</td>\n",
       "    </tr>\n",
       "    <tr>\n",
       "      <th>2015-12-01</th>\n",
       "      <td>Ahuntsic / Cartierville</td>\n",
       "      <td>6</td>\n",
       "    </tr>\n",
       "    <tr>\n",
       "      <th>2015-02-01</th>\n",
       "      <td>Ahuntsic / Cartierville</td>\n",
       "      <td>7</td>\n",
       "    </tr>\n",
       "    <tr>\n",
       "      <th>2015-01-01</th>\n",
       "      <td>Ahuntsic / Cartierville</td>\n",
       "      <td>9</td>\n",
       "    </tr>\n",
       "  </tbody>\n",
       "</table>\n",
       "</div>"
      ],
      "text/plain": [
       "                            NOM_ARROND  count\n",
       "Modeling_date                                \n",
       "2015-04-01     Ahuntsic / Cartierville      5\n",
       "2015-08-01     Ahuntsic / Cartierville      5\n",
       "2015-12-01     Ahuntsic / Cartierville      6\n",
       "2015-02-01     Ahuntsic / Cartierville      7\n",
       "2015-01-01     Ahuntsic / Cartierville      9"
      ]
     },
     "execution_count": 86,
     "metadata": {},
     "output_type": "execute_result"
    }
   ],
   "source": [
    "agg_fire_incidents.head()"
   ]
  },
  {
   "cell_type": "code",
   "execution_count": 90,
   "id": "68260984",
   "metadata": {},
   "outputs": [
    {
     "data": {
      "text/plain": [
       "array(['Ahuntsic / Cartierville', 'Anjou',\n",
       "       'Côte-des-Neiges / Notre-Dame-de-Grâce', 'Indéterminé',\n",
       "       \"L'Ile-Bizard / Ste-Geneviève\", 'Lachine', 'Lasalle',\n",
       "       'Mercier / Hochelaga-Maisonneuve', 'Montréal-Nord', 'Outremont',\n",
       "       'Pierrefonds / Roxboro', 'Plateau Mont-Royal',\n",
       "       'Rivière-des-Prairies / Pointe-aux-Trembles',\n",
       "       'Rosemont / Petite-Patrie', 'Saint-Laurent', 'Saint-Léonard',\n",
       "       'Sud-Ouest', 'Verdun', 'Ville-Marie',\n",
       "       'Villeray / St-Michel / Parc Extension'], dtype=object)"
      ]
     },
     "execution_count": 90,
     "metadata": {},
     "output_type": "execute_result"
    }
   ],
   "source": [
    "Names = agg_fire_incidents['NOM_ARROND'].unique()\n",
    "Names"
   ]
  },
  {
   "cell_type": "code",
   "execution_count": 94,
   "id": "4cf91642",
   "metadata": {},
   "outputs": [],
   "source": [
    "def plot_dataframe(df):\n",
    "    import pandas as pd\n",
    "    import numpy as np\n",
    "    import matplotlib.pyplot as plt\n",
    "\n",
    "    #Plotting the data for each dataframe\n",
    "    plt.figure(figsize = (8,5))\n",
    "    ax = plt.gca()\n",
    "    ax.xaxis.set_major_locator(plt.MaxNLocator(20))\n",
    "    plt.xticks(rotation = 45)\n",
    "    plt.plot(df.Modeling_date,df['count'])\n",
    "    plt.show()"
   ]
  },
  {
   "cell_type": "markdown",
   "id": "76f7845f",
   "metadata": {},
   "source": [
    "### The neighborhood chosen as an example is Anjou"
   ]
  },
  {
   "cell_type": "code",
   "execution_count": 95,
   "id": "1bab17ed",
   "metadata": {},
   "outputs": [
    {
     "name": "stderr",
     "output_type": "stream",
     "text": [
      "c:\\users\\user\\appdata\\local\\programs\\python\\python39\\lib\\site-packages\\pandas\\core\\frame.py:4901: SettingWithCopyWarning: \n",
      "A value is trying to be set on a copy of a slice from a DataFrame\n",
      "\n",
      "See the caveats in the documentation: https://pandas.pydata.org/pandas-docs/stable/user_guide/indexing.html#returning-a-view-versus-a-copy\n",
      "  return super().drop(\n"
     ]
    },
    {
     "data": {
      "text/html": [
       "<div>\n",
       "<style scoped>\n",
       "    .dataframe tbody tr th:only-of-type {\n",
       "        vertical-align: middle;\n",
       "    }\n",
       "\n",
       "    .dataframe tbody tr th {\n",
       "        vertical-align: top;\n",
       "    }\n",
       "\n",
       "    .dataframe thead th {\n",
       "        text-align: right;\n",
       "    }\n",
       "</style>\n",
       "<table border=\"1\" class=\"dataframe\">\n",
       "  <thead>\n",
       "    <tr style=\"text-align: right;\">\n",
       "      <th></th>\n",
       "      <th>Modeling_date</th>\n",
       "      <th>count</th>\n",
       "    </tr>\n",
       "  </thead>\n",
       "  <tbody>\n",
       "    <tr>\n",
       "      <th>2</th>\n",
       "      <td>2015-01-01</td>\n",
       "      <td>3</td>\n",
       "    </tr>\n",
       "    <tr>\n",
       "      <th>4</th>\n",
       "      <td>2015-03-01</td>\n",
       "      <td>1</td>\n",
       "    </tr>\n",
       "    <tr>\n",
       "      <th>0</th>\n",
       "      <td>2015-04-01</td>\n",
       "      <td>1</td>\n",
       "    </tr>\n",
       "    <tr>\n",
       "      <th>5</th>\n",
       "      <td>2015-05-01</td>\n",
       "      <td>2</td>\n",
       "    </tr>\n",
       "    <tr>\n",
       "      <th>3</th>\n",
       "      <td>2015-06-01</td>\n",
       "      <td>3</td>\n",
       "    </tr>\n",
       "  </tbody>\n",
       "</table>\n",
       "</div>"
      ],
      "text/plain": [
       "  Modeling_date  count\n",
       "2    2015-01-01      3\n",
       "4    2015-03-01      1\n",
       "0    2015-04-01      1\n",
       "5    2015-05-01      2\n",
       "3    2015-06-01      3"
      ]
     },
     "execution_count": 95,
     "metadata": {},
     "output_type": "execute_result"
    }
   ],
   "source": [
    "df = agg_fire_incidents[agg_fire_incidents['NOM_ARROND']=='Anjou']\n",
    "df.drop(columns=['NOM_ARROND'],inplace=True)\n",
    "df = df.reset_index()\n",
    "df.sort_values(['Modeling_date'],inplace=True)\n",
    "df.head()"
   ]
  },
  {
   "cell_type": "code",
   "execution_count": 96,
   "id": "0bd90dd1",
   "metadata": {},
   "outputs": [
    {
     "data": {
      "image/png": "[encoded data removed]",
      "text/plain": [
       "<Figure size 576x360 with 1 Axes>"
      ]
     },
     "metadata": {
      "needs_background": "light"
     },
     "output_type": "display_data"
    }
   ],
   "source": [
    "plot_dataframe(df)"
   ]
  },
  {
   "cell_type": "code",
   "execution_count": 108,
   "id": "90144b5a",
   "metadata": {},
   "outputs": [],
   "source": [
    "def stat_test(df):\n",
    "    # Test to see if the data is stationary\n",
    "    from pmdarima.arima import ADFTest\n",
    "#     df['Modeling_date'] = pd.to_datetime( df['Modeling_date'], format='%Y-%m-%d')\n",
    "#     df= df.set_index('Modeling_date')\n",
    "    adf_test = ADFTest(alpha = 0.05)\n",
    "    return adf_test.should_diff(df),df"
   ]
  },
  {
   "cell_type": "markdown",
   "id": "50d35ee9",
   "metadata": {},
   "source": [
    "### Using the above function, we can test whether our data is stationary or not."
   ]
  },
  {
   "cell_type": "code",
   "execution_count": 109,
   "id": "98432e42",
   "metadata": {},
   "outputs": [
    {
     "name": "stdout",
     "output_type": "stream",
     "text": [
      "(0.03252310098117147, False)\n"
     ]
    }
   ],
   "source": [
    "x,df = stat_test(df)\n",
    "print(x)"
   ]
  },
  {
   "cell_type": "code",
   "execution_count": 100,
   "id": "cdd7ba89",
   "metadata": {
    "scrolled": true
   },
   "outputs": [
    {
     "data": {
      "text/html": [
       "<div>\n",
       "<style scoped>\n",
       "    .dataframe tbody tr th:only-of-type {\n",
       "        vertical-align: middle;\n",
       "    }\n",
       "\n",
       "    .dataframe tbody tr th {\n",
       "        vertical-align: top;\n",
       "    }\n",
       "\n",
       "    .dataframe thead th {\n",
       "        text-align: right;\n",
       "    }\n",
       "</style>\n",
       "<table border=\"1\" class=\"dataframe\">\n",
       "  <thead>\n",
       "    <tr style=\"text-align: right;\">\n",
       "      <th></th>\n",
       "      <th>count</th>\n",
       "    </tr>\n",
       "    <tr>\n",
       "      <th>Modeling_date</th>\n",
       "      <th></th>\n",
       "    </tr>\n",
       "  </thead>\n",
       "  <tbody>\n",
       "    <tr>\n",
       "      <th>2015-01-01</th>\n",
       "      <td>3</td>\n",
       "    </tr>\n",
       "    <tr>\n",
       "      <th>2015-03-01</th>\n",
       "      <td>1</td>\n",
       "    </tr>\n",
       "    <tr>\n",
       "      <th>2015-04-01</th>\n",
       "      <td>1</td>\n",
       "    </tr>\n",
       "    <tr>\n",
       "      <th>2015-05-01</th>\n",
       "      <td>2</td>\n",
       "    </tr>\n",
       "    <tr>\n",
       "      <th>2015-06-01</th>\n",
       "      <td>3</td>\n",
       "    </tr>\n",
       "  </tbody>\n",
       "</table>\n",
       "</div>"
      ],
      "text/plain": [
       "               count\n",
       "Modeling_date       \n",
       "2015-01-01         3\n",
       "2015-03-01         1\n",
       "2015-04-01         1\n",
       "2015-05-01         2\n",
       "2015-06-01         3"
      ]
     },
     "execution_count": 100,
     "metadata": {},
     "output_type": "execute_result"
    }
   ],
   "source": [
    "df.head()"
   ]
  },
  {
   "cell_type": "markdown",
   "id": "f892e591",
   "metadata": {},
   "source": [
    "### We used auto ARIMA to find the best p,q,d for this data set"
   ]
  },
  {
   "cell_type": "code",
   "execution_count": null,
   "id": "1662696c",
   "metadata": {},
   "outputs": [],
   "source": [
    "df_train = df[df.index<\"2021-01-01\"]\n",
    "df_test = df[df.index>=\"2020-01-01\"]"
   ]
  },
  {
   "cell_type": "code",
   "execution_count": null,
   "id": "54c17e9a",
   "metadata": {
    "scrolled": true
   },
   "outputs": [],
   "source": [
    "import pmdarima as pm\n",
    "\n",
    "# Seasonal - fit stepwise auto-ARIMA\n",
    "smodel = pm.auto_arima(df_train, start_p=1, start_q=1,\n",
    "                         test='adf',\n",
    "                         max_p=3, max_q=3, m=12,\n",
    "                         start_P=0, seasonal=True,\n",
    "                         d=None, D=1, trace=True,\n",
    "                         error_action='ignore',  \n",
    "                         suppress_warnings=True, \n",
    "                         stepwise=True)\n",
    "\n",
    "smodel.summary()"
   ]
  },
  {
   "cell_type": "code",
   "execution_count": null,
   "id": "2d471860",
   "metadata": {
    "scrolled": true
   },
   "outputs": [],
   "source": [
    "# Forecast\n",
    "n_periods = 7\n",
    "fitted, confint = smodel.predict(n_periods=n_periods, return_conf_int=True)\n",
    "index_of_fc = pd.date_range(df_train.index[-1], periods = n_periods, freq='MS')\n",
    "\n",
    "# make series for plotting purpose\n",
    "fitted_series = pd.Series(fitted, index=index_of_fc)\n",
    "lower_series = pd.Series(confint[:, 0], index=index_of_fc)\n",
    "upper_series = pd.Series(confint[:, 1], index=index_of_fc)\n",
    "\n",
    "# Plot\n",
    "plt.plot(df)\n",
    "plt.plot(fitted_series, color='darkgreen')\n",
    "plt.fill_between(lower_series.index, \n",
    "                 lower_series, \n",
    "                 upper_series, \n",
    "                 color='k', alpha=.15)\n",
    "\n",
    "plt.title(\"SARIMA - Final Forecast of a10 - Drug Sales\")\n",
    "plt.show()"
   ]
  },
  {
   "cell_type": "code",
   "execution_count": null,
   "id": "0598c049",
   "metadata": {},
   "outputs": [],
   "source": [
    "expected = pd.Series(df['count'])[-7:]"
   ]
  },
  {
   "cell_type": "code",
   "execution_count": null,
   "id": "91230198",
   "metadata": {},
   "outputs": [],
   "source": [
    "for i in range(7):\n",
    "    print(\"predicted value is:\", fitted_series[i],\"expexted value is:\",expected[i])"
   ]
  },
  {
   "cell_type": "code",
   "execution_count": null,
   "id": "83de90d4",
   "metadata": {},
   "outputs": [],
   "source": [
    "from sklearn.metrics import mean_squared_error\n",
    "from math import sqrt\n",
    "rsme = sqrt(mean_squared_error(expected, fitted_series))\n",
    "print(rsme)"
   ]
  },
  {
   "cell_type": "code",
   "execution_count": null,
   "id": "b24ac802",
   "metadata": {},
   "outputs": [],
   "source": [
    "accuracy = 1- (rsme / expected.mean())\n",
    "print(accuracy)"
   ]
  },
  {
   "cell_type": "markdown",
   "id": "23b1f1b0",
   "metadata": {},
   "source": [
    "### As the data for each single neighborhood is insufficient, in some months no fire incidents was reported, the model accuracy is not comparable with the one for the whole city of Montreal, being 45% vs 89%"
   ]
  },
  {
   "cell_type": "code",
   "execution_count": null,
   "id": "f664f255",
   "metadata": {},
   "outputs": [],
   "source": []
  }
 ],
 "metadata": {
  "kernelspec": {
   "display_name": "Python 3 (ipykernel)",
   "language": "python",
   "name": "python3"
  },
  "language_info": {
   "codemirror_mode": {
    "name": "ipython",
    "version": 3
   },
   "file_extension": ".py",
   "mimetype": "text/x-python",
   "name": "python",
   "nbconvert_exporter": "python",
   "pygments_lexer": "ipython3",
   "version": "3.9.6"
  }
 },
 "nbformat": 4,
 "nbformat_minor": 5
}
